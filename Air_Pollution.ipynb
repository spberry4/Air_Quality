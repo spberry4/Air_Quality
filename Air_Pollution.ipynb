{
  "nbformat": 4,
  "nbformat_minor": 0,
  "metadata": {
    "colab": {
      "provenance": [],
      "authorship_tag": "ABX9TyMKuPEFhSbDKoXBcdC15n8i",
      "include_colab_link": true
    },
    "kernelspec": {
      "name": "python3",
      "display_name": "Python 3"
    },
    "language_info": {
      "name": "python"
    }
  },
  "cells": [
    {
      "cell_type": "markdown",
      "metadata": {
        "id": "view-in-github",
        "colab_type": "text"
      },
      "source": [
        "<a href=\"https://colab.research.google.com/github/spberry4/Air_Quality/blob/main/Air_Pollution.ipynb\" target=\"_parent\"><img src=\"https://colab.research.google.com/assets/colab-badge.svg\" alt=\"Open In Colab\"/></a>"
      ]
    },
    {
      "cell_type": "code",
      "source": [
        "!pip install sodapy"
      ],
      "metadata": {
        "colab": {
          "base_uri": "https://localhost:8080/"
        },
        "id": "ptiseSs3xPXa",
        "outputId": "d653d15d-1b82-4c64-dfa0-9cd5dda6d21a"
      },
      "execution_count": 2,
      "outputs": [
        {
          "output_type": "stream",
          "name": "stdout",
          "text": [
            "Looking in indexes: https://pypi.org/simple, https://us-python.pkg.dev/colab-wheels/public/simple/\n",
            "Collecting sodapy\n",
            "  Downloading sodapy-2.2.0-py2.py3-none-any.whl (15 kB)\n",
            "Collecting requests>=2.28.1\n",
            "  Downloading requests-2.28.2-py3-none-any.whl (62 kB)\n",
            "\u001b[2K     \u001b[90m━━━━━━━━━━━━━━━━━━━━━━━━━━━━━━━━━━━━━━━━\u001b[0m \u001b[32m62.8/62.8 KB\u001b[0m \u001b[31m5.2 MB/s\u001b[0m eta \u001b[36m0:00:00\u001b[0m\n",
            "\u001b[?25hRequirement already satisfied: idna<4,>=2.5 in /usr/local/lib/python3.8/dist-packages (from requests>=2.28.1->sodapy) (2.10)\n",
            "Requirement already satisfied: urllib3<1.27,>=1.21.1 in /usr/local/lib/python3.8/dist-packages (from requests>=2.28.1->sodapy) (1.24.3)\n",
            "Requirement already satisfied: charset-normalizer<4,>=2 in /usr/local/lib/python3.8/dist-packages (from requests>=2.28.1->sodapy) (2.1.1)\n",
            "Requirement already satisfied: certifi>=2017.4.17 in /usr/local/lib/python3.8/dist-packages (from requests>=2.28.1->sodapy) (2022.12.7)\n",
            "Installing collected packages: requests, sodapy\n",
            "  Attempting uninstall: requests\n",
            "    Found existing installation: requests 2.25.1\n",
            "    Uninstalling requests-2.25.1:\n",
            "      Successfully uninstalled requests-2.25.1\n",
            "Successfully installed requests-2.28.2 sodapy-2.2.0\n"
          ]
        }
      ]
    },
    {
      "cell_type": "code",
      "execution_count": 46,
      "metadata": {
        "id": "hp_0VeWuwrKj"
      },
      "outputs": [],
      "source": [
        "import plotly.express as px\n",
        "import pandas as pd\n",
        "import plotly.io as pio\n",
        "import plotly.graph_objects as go\n",
        "from plotly.subplots import make_subplots\n",
        "import matplotlib.pyplot as plt\n",
        "from sodapy import Socrata\n",
        "import glob\n",
        "import folium"
      ]
    },
    {
      "cell_type": "code",
      "source": [
        "from google.colab import drive\n",
        "drive.mount('/content/drive')"
      ],
      "metadata": {
        "colab": {
          "base_uri": "https://localhost:8080/"
        },
        "id": "FlJ10uPUx1CZ",
        "outputId": "73ed9c51-83f5-4d5e-ac0e-4b843bac5d0a"
      },
      "execution_count": 5,
      "outputs": [
        {
          "output_type": "stream",
          "name": "stdout",
          "text": [
            "Mounted at /content/drive\n"
          ]
        }
      ]
    },
    {
      "cell_type": "code",
      "source": [
        "files = glob.glob('/content/drive/MyDrive/Data/AQI/*.csv', \n",
        "                   recursive = True)\n",
        "for file in files:\n",
        "    print(file)"
      ],
      "metadata": {
        "colab": {
          "base_uri": "https://localhost:8080/"
        },
        "id": "k0OoloTG0ATh",
        "outputId": "c599d359-825f-45cb-ff0c-dd4f5c96a2dc"
      },
      "execution_count": 7,
      "outputs": [
        {
          "output_type": "stream",
          "name": "stdout",
          "text": [
            "/content/drive/MyDrive/Data/AQI/ad_viz_plotvalPM2.5_data_2022.csv\n",
            "/content/drive/MyDrive/Data/AQI/ad_viz_plotvalPM2.5_data_2021.csv\n",
            "/content/drive/MyDrive/Data/AQI/ad_viz_plotval_data_pm10_2022.csv\n",
            "/content/drive/MyDrive/Data/AQI/ad_viz_plotval_data_PM10_2021.csv\n",
            "/content/drive/MyDrive/Data/AQI/ad_viz_plotval_data_ozone_2022.csv\n",
            "/content/drive/MyDrive/Data/AQI/ad_viz_plotval_data_2021_ozone.csv\n"
          ]
        }
      ]
    },
    {
      "cell_type": "code",
      "source": [
        "# create empty list to store dataframes\n",
        "li = []\n",
        "\n",
        "for f in files:\n",
        "    # read in csv\n",
        "    temp_df = pd.read_csv(f)\n",
        "    # append df to list\n",
        "    li.append(temp_df)\n",
        "    print(f'Successfully created dataframe for {f} with shape {temp_df.shape}')"
      ],
      "metadata": {
        "colab": {
          "base_uri": "https://localhost:8080/"
        },
        "id": "MgqqW7Tx3JFi",
        "outputId": "9b8cedb1-6e2d-4a00-a7e4-77a8baadefb0"
      },
      "execution_count": 13,
      "outputs": [
        {
          "output_type": "stream",
          "name": "stdout",
          "text": [
            "Successfully created dataframe for /content/drive/MyDrive/Data/AQI/ad_viz_plotvalPM2.5_data_2022.csv with shape (5792, 20)\n",
            "Successfully created dataframe for /content/drive/MyDrive/Data/AQI/ad_viz_plotvalPM2.5_data_2021.csv with shape (4924, 20)\n",
            "Successfully created dataframe for /content/drive/MyDrive/Data/AQI/ad_viz_plotval_data_pm10_2022.csv with shape (2148, 20)\n",
            "Successfully created dataframe for /content/drive/MyDrive/Data/AQI/ad_viz_plotval_data_PM10_2021.csv with shape (1065, 20)\n",
            "Successfully created dataframe for /content/drive/MyDrive/Data/AQI/ad_viz_plotval_data_ozone_2022.csv with shape (2885, 20)\n",
            "Successfully created dataframe for /content/drive/MyDrive/Data/AQI/ad_viz_plotval_data_2021_ozone.csv with shape (2806, 20)\n"
          ]
        }
      ]
    },
    {
      "cell_type": "code",
      "source": [
        "# concatenate our list of dataframes into one!\n",
        "df = pd.concat(li, axis=0)\n",
        "print(df.shape)\n",
        "df.head()"
      ],
      "metadata": {
        "colab": {
          "base_uri": "https://localhost:8080/",
          "height": 439
        },
        "id": "S8QZz6a03XJ5",
        "outputId": "ce8e1911-c489-4fa2-acb1-80f7745420d9"
      },
      "execution_count": 62,
      "outputs": [
        {
          "output_type": "stream",
          "name": "stdout",
          "text": [
            "(19620, 22)\n"
          ]
        },
        {
          "output_type": "execute_result",
          "data": {
            "text/plain": [
              "         Date Source    Site ID  POC  Daily Mean PM2.5 Concentration  \\\n",
              "0  01/01/2022    AQS  490352005    1                             4.3   \n",
              "1  01/02/2022    AQS  490352005    1                             8.5   \n",
              "2  01/03/2022    AQS  490352005    1                            16.5   \n",
              "3  01/04/2022    AQS  490352005    1                             5.0   \n",
              "4  01/05/2022    AQS  490352005    1                             5.2   \n",
              "\n",
              "      UNITS  DAILY_AQI_VALUE    Site Name  DAILY_OBS_COUNT  PERCENT_COMPLETE  \\\n",
              "0  ug/m3 LC               18  Copper View                1             100.0   \n",
              "1  ug/m3 LC               35  Copper View                1             100.0   \n",
              "2  ug/m3 LC               60  Copper View                1             100.0   \n",
              "3  ug/m3 LC               21  Copper View                1             100.0   \n",
              "4  ug/m3 LC               22  Copper View                1             100.0   \n",
              "\n",
              "   ...  CBSA_CODE           CBSA_NAME  STATE_CODE STATE  COUNTY_CODE  \\\n",
              "0  ...      41620  Salt Lake City, UT          49  Utah           35   \n",
              "1  ...      41620  Salt Lake City, UT          49  Utah           35   \n",
              "2  ...      41620  Salt Lake City, UT          49  Utah           35   \n",
              "3  ...      41620  Salt Lake City, UT          49  Utah           35   \n",
              "4  ...      41620  Salt Lake City, UT          49  Utah           35   \n",
              "\n",
              "      COUNTY  SITE_LATITUDE SITE_LONGITUDE  Daily Mean PM10 Concentration  \\\n",
              "0  Salt Lake      40.598056    -111.894167                            NaN   \n",
              "1  Salt Lake      40.598056    -111.894167                            NaN   \n",
              "2  Salt Lake      40.598056    -111.894167                            NaN   \n",
              "3  Salt Lake      40.598056    -111.894167                            NaN   \n",
              "4  Salt Lake      40.598056    -111.894167                            NaN   \n",
              "\n",
              "   Daily Max 8-hour Ozone Concentration  \n",
              "0                                   NaN  \n",
              "1                                   NaN  \n",
              "2                                   NaN  \n",
              "3                                   NaN  \n",
              "4                                   NaN  \n",
              "\n",
              "[5 rows x 22 columns]"
            ],
            "text/html": [
              "\n",
              "  <div id=\"df-4fb7e740-5b88-4ec3-b65c-6139ef7d3a1a\">\n",
              "    <div class=\"colab-df-container\">\n",
              "      <div>\n",
              "<style scoped>\n",
              "    .dataframe tbody tr th:only-of-type {\n",
              "        vertical-align: middle;\n",
              "    }\n",
              "\n",
              "    .dataframe tbody tr th {\n",
              "        vertical-align: top;\n",
              "    }\n",
              "\n",
              "    .dataframe thead th {\n",
              "        text-align: right;\n",
              "    }\n",
              "</style>\n",
              "<table border=\"1\" class=\"dataframe\">\n",
              "  <thead>\n",
              "    <tr style=\"text-align: right;\">\n",
              "      <th></th>\n",
              "      <th>Date</th>\n",
              "      <th>Source</th>\n",
              "      <th>Site ID</th>\n",
              "      <th>POC</th>\n",
              "      <th>Daily Mean PM2.5 Concentration</th>\n",
              "      <th>UNITS</th>\n",
              "      <th>DAILY_AQI_VALUE</th>\n",
              "      <th>Site Name</th>\n",
              "      <th>DAILY_OBS_COUNT</th>\n",
              "      <th>PERCENT_COMPLETE</th>\n",
              "      <th>...</th>\n",
              "      <th>CBSA_CODE</th>\n",
              "      <th>CBSA_NAME</th>\n",
              "      <th>STATE_CODE</th>\n",
              "      <th>STATE</th>\n",
              "      <th>COUNTY_CODE</th>\n",
              "      <th>COUNTY</th>\n",
              "      <th>SITE_LATITUDE</th>\n",
              "      <th>SITE_LONGITUDE</th>\n",
              "      <th>Daily Mean PM10 Concentration</th>\n",
              "      <th>Daily Max 8-hour Ozone Concentration</th>\n",
              "    </tr>\n",
              "  </thead>\n",
              "  <tbody>\n",
              "    <tr>\n",
              "      <th>0</th>\n",
              "      <td>01/01/2022</td>\n",
              "      <td>AQS</td>\n",
              "      <td>490352005</td>\n",
              "      <td>1</td>\n",
              "      <td>4.3</td>\n",
              "      <td>ug/m3 LC</td>\n",
              "      <td>18</td>\n",
              "      <td>Copper View</td>\n",
              "      <td>1</td>\n",
              "      <td>100.0</td>\n",
              "      <td>...</td>\n",
              "      <td>41620</td>\n",
              "      <td>Salt Lake City, UT</td>\n",
              "      <td>49</td>\n",
              "      <td>Utah</td>\n",
              "      <td>35</td>\n",
              "      <td>Salt Lake</td>\n",
              "      <td>40.598056</td>\n",
              "      <td>-111.894167</td>\n",
              "      <td>NaN</td>\n",
              "      <td>NaN</td>\n",
              "    </tr>\n",
              "    <tr>\n",
              "      <th>1</th>\n",
              "      <td>01/02/2022</td>\n",
              "      <td>AQS</td>\n",
              "      <td>490352005</td>\n",
              "      <td>1</td>\n",
              "      <td>8.5</td>\n",
              "      <td>ug/m3 LC</td>\n",
              "      <td>35</td>\n",
              "      <td>Copper View</td>\n",
              "      <td>1</td>\n",
              "      <td>100.0</td>\n",
              "      <td>...</td>\n",
              "      <td>41620</td>\n",
              "      <td>Salt Lake City, UT</td>\n",
              "      <td>49</td>\n",
              "      <td>Utah</td>\n",
              "      <td>35</td>\n",
              "      <td>Salt Lake</td>\n",
              "      <td>40.598056</td>\n",
              "      <td>-111.894167</td>\n",
              "      <td>NaN</td>\n",
              "      <td>NaN</td>\n",
              "    </tr>\n",
              "    <tr>\n",
              "      <th>2</th>\n",
              "      <td>01/03/2022</td>\n",
              "      <td>AQS</td>\n",
              "      <td>490352005</td>\n",
              "      <td>1</td>\n",
              "      <td>16.5</td>\n",
              "      <td>ug/m3 LC</td>\n",
              "      <td>60</td>\n",
              "      <td>Copper View</td>\n",
              "      <td>1</td>\n",
              "      <td>100.0</td>\n",
              "      <td>...</td>\n",
              "      <td>41620</td>\n",
              "      <td>Salt Lake City, UT</td>\n",
              "      <td>49</td>\n",
              "      <td>Utah</td>\n",
              "      <td>35</td>\n",
              "      <td>Salt Lake</td>\n",
              "      <td>40.598056</td>\n",
              "      <td>-111.894167</td>\n",
              "      <td>NaN</td>\n",
              "      <td>NaN</td>\n",
              "    </tr>\n",
              "    <tr>\n",
              "      <th>3</th>\n",
              "      <td>01/04/2022</td>\n",
              "      <td>AQS</td>\n",
              "      <td>490352005</td>\n",
              "      <td>1</td>\n",
              "      <td>5.0</td>\n",
              "      <td>ug/m3 LC</td>\n",
              "      <td>21</td>\n",
              "      <td>Copper View</td>\n",
              "      <td>1</td>\n",
              "      <td>100.0</td>\n",
              "      <td>...</td>\n",
              "      <td>41620</td>\n",
              "      <td>Salt Lake City, UT</td>\n",
              "      <td>49</td>\n",
              "      <td>Utah</td>\n",
              "      <td>35</td>\n",
              "      <td>Salt Lake</td>\n",
              "      <td>40.598056</td>\n",
              "      <td>-111.894167</td>\n",
              "      <td>NaN</td>\n",
              "      <td>NaN</td>\n",
              "    </tr>\n",
              "    <tr>\n",
              "      <th>4</th>\n",
              "      <td>01/05/2022</td>\n",
              "      <td>AQS</td>\n",
              "      <td>490352005</td>\n",
              "      <td>1</td>\n",
              "      <td>5.2</td>\n",
              "      <td>ug/m3 LC</td>\n",
              "      <td>22</td>\n",
              "      <td>Copper View</td>\n",
              "      <td>1</td>\n",
              "      <td>100.0</td>\n",
              "      <td>...</td>\n",
              "      <td>41620</td>\n",
              "      <td>Salt Lake City, UT</td>\n",
              "      <td>49</td>\n",
              "      <td>Utah</td>\n",
              "      <td>35</td>\n",
              "      <td>Salt Lake</td>\n",
              "      <td>40.598056</td>\n",
              "      <td>-111.894167</td>\n",
              "      <td>NaN</td>\n",
              "      <td>NaN</td>\n",
              "    </tr>\n",
              "  </tbody>\n",
              "</table>\n",
              "<p>5 rows × 22 columns</p>\n",
              "</div>\n",
              "      <button class=\"colab-df-convert\" onclick=\"convertToInteractive('df-4fb7e740-5b88-4ec3-b65c-6139ef7d3a1a')\"\n",
              "              title=\"Convert this dataframe to an interactive table.\"\n",
              "              style=\"display:none;\">\n",
              "        \n",
              "  <svg xmlns=\"http://www.w3.org/2000/svg\" height=\"24px\"viewBox=\"0 0 24 24\"\n",
              "       width=\"24px\">\n",
              "    <path d=\"M0 0h24v24H0V0z\" fill=\"none\"/>\n",
              "    <path d=\"M18.56 5.44l.94 2.06.94-2.06 2.06-.94-2.06-.94-.94-2.06-.94 2.06-2.06.94zm-11 1L8.5 8.5l.94-2.06 2.06-.94-2.06-.94L8.5 2.5l-.94 2.06-2.06.94zm10 10l.94 2.06.94-2.06 2.06-.94-2.06-.94-.94-2.06-.94 2.06-2.06.94z\"/><path d=\"M17.41 7.96l-1.37-1.37c-.4-.4-.92-.59-1.43-.59-.52 0-1.04.2-1.43.59L10.3 9.45l-7.72 7.72c-.78.78-.78 2.05 0 2.83L4 21.41c.39.39.9.59 1.41.59.51 0 1.02-.2 1.41-.59l7.78-7.78 2.81-2.81c.8-.78.8-2.07 0-2.86zM5.41 20L4 18.59l7.72-7.72 1.47 1.35L5.41 20z\"/>\n",
              "  </svg>\n",
              "      </button>\n",
              "      \n",
              "  <style>\n",
              "    .colab-df-container {\n",
              "      display:flex;\n",
              "      flex-wrap:wrap;\n",
              "      gap: 12px;\n",
              "    }\n",
              "\n",
              "    .colab-df-convert {\n",
              "      background-color: #E8F0FE;\n",
              "      border: none;\n",
              "      border-radius: 50%;\n",
              "      cursor: pointer;\n",
              "      display: none;\n",
              "      fill: #1967D2;\n",
              "      height: 32px;\n",
              "      padding: 0 0 0 0;\n",
              "      width: 32px;\n",
              "    }\n",
              "\n",
              "    .colab-df-convert:hover {\n",
              "      background-color: #E2EBFA;\n",
              "      box-shadow: 0px 1px 2px rgba(60, 64, 67, 0.3), 0px 1px 3px 1px rgba(60, 64, 67, 0.15);\n",
              "      fill: #174EA6;\n",
              "    }\n",
              "\n",
              "    [theme=dark] .colab-df-convert {\n",
              "      background-color: #3B4455;\n",
              "      fill: #D2E3FC;\n",
              "    }\n",
              "\n",
              "    [theme=dark] .colab-df-convert:hover {\n",
              "      background-color: #434B5C;\n",
              "      box-shadow: 0px 1px 3px 1px rgba(0, 0, 0, 0.15);\n",
              "      filter: drop-shadow(0px 1px 2px rgba(0, 0, 0, 0.3));\n",
              "      fill: #FFFFFF;\n",
              "    }\n",
              "  </style>\n",
              "\n",
              "      <script>\n",
              "        const buttonEl =\n",
              "          document.querySelector('#df-4fb7e740-5b88-4ec3-b65c-6139ef7d3a1a button.colab-df-convert');\n",
              "        buttonEl.style.display =\n",
              "          google.colab.kernel.accessAllowed ? 'block' : 'none';\n",
              "\n",
              "        async function convertToInteractive(key) {\n",
              "          const element = document.querySelector('#df-4fb7e740-5b88-4ec3-b65c-6139ef7d3a1a');\n",
              "          const dataTable =\n",
              "            await google.colab.kernel.invokeFunction('convertToInteractive',\n",
              "                                                     [key], {});\n",
              "          if (!dataTable) return;\n",
              "\n",
              "          const docLinkHtml = 'Like what you see? Visit the ' +\n",
              "            '<a target=\"_blank\" href=https://colab.research.google.com/notebooks/data_table.ipynb>data table notebook</a>'\n",
              "            + ' to learn more about interactive tables.';\n",
              "          element.innerHTML = '';\n",
              "          dataTable['output_type'] = 'display_data';\n",
              "          await google.colab.output.renderOutput(dataTable, element);\n",
              "          const docLink = document.createElement('div');\n",
              "          docLink.innerHTML = docLinkHtml;\n",
              "          element.appendChild(docLink);\n",
              "        }\n",
              "      </script>\n",
              "    </div>\n",
              "  </div>\n",
              "  "
            ]
          },
          "metadata": {},
          "execution_count": 62
        }
      ]
    },
    {
      "cell_type": "code",
      "source": [
        "df.info()"
      ],
      "metadata": {
        "colab": {
          "base_uri": "https://localhost:8080/"
        },
        "id": "SArBxMaU4WWX",
        "outputId": "49120cb6-9dac-4d1c-8504-d294d5a7b08c"
      },
      "execution_count": 63,
      "outputs": [
        {
          "output_type": "stream",
          "name": "stdout",
          "text": [
            "<class 'pandas.core.frame.DataFrame'>\n",
            "Int64Index: 19620 entries, 0 to 2805\n",
            "Data columns (total 22 columns):\n",
            " #   Column                                Non-Null Count  Dtype  \n",
            "---  ------                                --------------  -----  \n",
            " 0   Date                                  19620 non-null  object \n",
            " 1   Source                                19620 non-null  object \n",
            " 2   Site ID                               19620 non-null  int64  \n",
            " 3   POC                                   19620 non-null  int64  \n",
            " 4   Daily Mean PM2.5 Concentration        10716 non-null  float64\n",
            " 5   UNITS                                 19620 non-null  object \n",
            " 6   DAILY_AQI_VALUE                       19620 non-null  int64  \n",
            " 7   Site Name                             19620 non-null  object \n",
            " 8   DAILY_OBS_COUNT                       19620 non-null  int64  \n",
            " 9   PERCENT_COMPLETE                      19620 non-null  float64\n",
            " 10  AQS_PARAMETER_CODE                    19620 non-null  int64  \n",
            " 11  AQS_PARAMETER_DESC                    19620 non-null  object \n",
            " 12  CBSA_CODE                             19620 non-null  int64  \n",
            " 13  CBSA_NAME                             19620 non-null  object \n",
            " 14  STATE_CODE                            19620 non-null  int64  \n",
            " 15  STATE                                 19620 non-null  object \n",
            " 16  COUNTY_CODE                           19620 non-null  int64  \n",
            " 17  COUNTY                                19620 non-null  object \n",
            " 18  SITE_LATITUDE                         19620 non-null  float64\n",
            " 19  SITE_LONGITUDE                        19620 non-null  float64\n",
            " 20  Daily Mean PM10 Concentration         3213 non-null   float64\n",
            " 21  Daily Max 8-hour Ozone Concentration  5691 non-null   float64\n",
            "dtypes: float64(6), int64(8), object(8)\n",
            "memory usage: 3.4+ MB\n"
          ]
        }
      ]
    },
    {
      "cell_type": "code",
      "source": [
        "df[\"Date\"] = pd.to_datetime(df[\"Date\"])\n",
        "#df.groupby([\"Date\", \"Daily Mean PM2.5 Concentration\",\"Daily Mean PM10 Concentration\",\"Daily Max 8-hour Ozone Concentration\"]).sum()\n",
        "df.set_index(\"Date\", inplace = True)"
      ],
      "metadata": {
        "id": "3aQuLKXq4aNR"
      },
      "execution_count": 64,
      "outputs": []
    },
    {
      "cell_type": "code",
      "source": [
        "df.columns"
      ],
      "metadata": {
        "colab": {
          "base_uri": "https://localhost:8080/"
        },
        "id": "VaAu9nKE4LrC",
        "outputId": "72565e7c-f0b2-41d9-cb70-f673322f3ad4"
      },
      "execution_count": 65,
      "outputs": [
        {
          "output_type": "execute_result",
          "data": {
            "text/plain": [
              "Index(['Source', 'Site ID', 'POC', 'Daily Mean PM2.5 Concentration', 'UNITS',\n",
              "       'DAILY_AQI_VALUE', 'Site Name', 'DAILY_OBS_COUNT', 'PERCENT_COMPLETE',\n",
              "       'AQS_PARAMETER_CODE', 'AQS_PARAMETER_DESC', 'CBSA_CODE', 'CBSA_NAME',\n",
              "       'STATE_CODE', 'STATE', 'COUNTY_CODE', 'COUNTY', 'SITE_LATITUDE',\n",
              "       'SITE_LONGITUDE', 'Daily Mean PM10 Concentration',\n",
              "       'Daily Max 8-hour Ozone Concentration'],\n",
              "      dtype='object')"
            ]
          },
          "metadata": {},
          "execution_count": 65
        }
      ]
    },
    {
      "cell_type": "code",
      "source": [
        "df[[\"Daily Mean PM2.5 Concentration\"]].dropna().plot(kind = \"line\")"
      ],
      "metadata": {
        "colab": {
          "base_uri": "https://localhost:8080/",
          "height": 295
        },
        "id": "mbnXTZZa3vM6",
        "outputId": "165611d5-241b-4d79-e489-545408f6998f"
      },
      "execution_count": 66,
      "outputs": [
        {
          "output_type": "execute_result",
          "data": {
            "text/plain": [
              "<matplotlib.axes._subplots.AxesSubplot at 0x7fd3edc1e730>"
            ]
          },
          "metadata": {},
          "execution_count": 66
        },
        {
          "output_type": "display_data",
          "data": {
            "text/plain": [
              "<Figure size 432x288 with 1 Axes>"
            ],
            "image/png": "[encoded data removed]"
          },
          "metadata": {
            "needs_background": "light"
          }
        }
      ]
    },
    {
      "cell_type": "code",
      "source": [
        "df[[\"Daily Max 8-hour Ozone Concentration\"]].dropna().plot(kind = \"line\")"
      ],
      "metadata": {
        "colab": {
          "base_uri": "https://localhost:8080/",
          "height": 298
        },
        "id": "WVjqaZQQ6vge",
        "outputId": "213a0b68-0d4d-4440-c12c-e2603cc1dcc1"
      },
      "execution_count": 67,
      "outputs": [
        {
          "output_type": "execute_result",
          "data": {
            "text/plain": [
              "<matplotlib.axes._subplots.AxesSubplot at 0x7fd3ee0fe1f0>"
            ]
          },
          "metadata": {},
          "execution_count": 67
        },
        {
          "output_type": "display_data",
          "data": {
            "text/plain": [
              "<Figure size 432x288 with 1 Axes>"
            ],
            "image/png": "[encoded data removed]"
          },
          "metadata": {
            "needs_background": "light"
          }
        }
      ]
    },
    {
      "cell_type": "code",
      "source": [
        "# Creating figure and axis objects using subplots()\n",
        "fig, ax = plt.subplots(figsize=[15, 7])\n",
        "\n",
        "ax.plot(df.index,\n",
        "         df[\"Daily Mean PM2.5 Concentration\"],\n",
        "         marker='o', linewidth=2, label='PM2.5')\n",
        "ax.plot(df.index,\n",
        "         df[\"Daily Mean PM10 Concentration\"],\n",
        "         marker='o', linewidth=2, \n",
        "         label='PM10')\n",
        "plt.xticks(rotation=60)\n",
        "ax.set_xlabel('Date')\n",
        "ax.set_ylabel(None)\n",
        "ax.set_title(\"Salt Lake County Air Pollution\")\n",
        "plt.legend()\n",
        "plt.show()"
      ],
      "metadata": {
        "colab": {
          "base_uri": "https://localhost:8080/",
          "height": 804
        },
        "id": "Z93-uekJ9H89",
        "outputId": "768e4e8e-8c17-490e-9a66-20f9def1bb4e"
      },
      "execution_count": 82,
      "outputs": [
        {
          "output_type": "error",
          "ename": "ValueError",
          "evalue": "ignored",
          "traceback": [
            "\u001b[0;31m---------------------------------------------------------------------------\u001b[0m",
            "\u001b[0;31mValueError\u001b[0m                                Traceback (most recent call last)",
            "\u001b[0;32m<ipython-input-82-e0918b488965>\u001b[0m in \u001b[0;36m<module>\u001b[0;34m\u001b[0m\n\u001b[1;32m      2\u001b[0m \u001b[0mfig\u001b[0m\u001b[0;34m,\u001b[0m \u001b[0max\u001b[0m \u001b[0;34m=\u001b[0m \u001b[0mplt\u001b[0m\u001b[0;34m.\u001b[0m\u001b[0msubplots\u001b[0m\u001b[0;34m(\u001b[0m\u001b[0mfigsize\u001b[0m\u001b[0;34m=\u001b[0m\u001b[0;34m[\u001b[0m\u001b[0;36m15\u001b[0m\u001b[0;34m,\u001b[0m \u001b[0;36m7\u001b[0m\u001b[0;34m]\u001b[0m\u001b[0;34m)\u001b[0m\u001b[0;34m\u001b[0m\u001b[0;34m\u001b[0m\u001b[0m\n\u001b[1;32m      3\u001b[0m \u001b[0;34m\u001b[0m\u001b[0m\n\u001b[0;32m----> 4\u001b[0;31m ax.plot(df.index,\n\u001b[0m\u001b[1;32m      5\u001b[0m          \u001b[0mdf\u001b[0m\u001b[0;34m[\u001b[0m\u001b[0;34m\"Daily Mean PM2.5 Concentration\"\u001b[0m\u001b[0;34m]\u001b[0m\u001b[0;34m.\u001b[0m\u001b[0mgroupby\u001b[0m\u001b[0;34m(\u001b[0m\u001b[0mdf\u001b[0m\u001b[0;34m.\u001b[0m\u001b[0mindex\u001b[0m\u001b[0;34m)\u001b[0m\u001b[0;34m.\u001b[0m\u001b[0magg\u001b[0m\u001b[0;34m(\u001b[0m\u001b[0;34m\"mean\"\u001b[0m\u001b[0;34m)\u001b[0m\u001b[0;34m,\u001b[0m\u001b[0;34m\u001b[0m\u001b[0;34m\u001b[0m\u001b[0m\n\u001b[1;32m      6\u001b[0m          marker='o', linewidth=2, label='PM2.5')\n",
            "\u001b[0;32m/usr/local/lib/python3.8/dist-packages/matplotlib/axes/_axes.py\u001b[0m in \u001b[0;36mplot\u001b[0;34m(self, scalex, scaley, data, *args, **kwargs)\u001b[0m\n\u001b[1;32m   1645\u001b[0m         \"\"\"\n\u001b[1;32m   1646\u001b[0m         \u001b[0mkwargs\u001b[0m \u001b[0;34m=\u001b[0m \u001b[0mcbook\u001b[0m\u001b[0;34m.\u001b[0m\u001b[0mnormalize_kwargs\u001b[0m\u001b[0;34m(\u001b[0m\u001b[0mkwargs\u001b[0m\u001b[0;34m,\u001b[0m \u001b[0mmlines\u001b[0m\u001b[0;34m.\u001b[0m\u001b[0mLine2D\u001b[0m\u001b[0;34m)\u001b[0m\u001b[0;34m\u001b[0m\u001b[0;34m\u001b[0m\u001b[0m\n\u001b[0;32m-> 1647\u001b[0;31m         \u001b[0mlines\u001b[0m \u001b[0;34m=\u001b[0m \u001b[0;34m[\u001b[0m\u001b[0;34m*\u001b[0m\u001b[0mself\u001b[0m\u001b[0;34m.\u001b[0m\u001b[0m_get_lines\u001b[0m\u001b[0;34m(\u001b[0m\u001b[0;34m*\u001b[0m\u001b[0margs\u001b[0m\u001b[0;34m,\u001b[0m \u001b[0mdata\u001b[0m\u001b[0;34m=\u001b[0m\u001b[0mdata\u001b[0m\u001b[0;34m,\u001b[0m \u001b[0;34m**\u001b[0m\u001b[0mkwargs\u001b[0m\u001b[0;34m)\u001b[0m\u001b[0;34m]\u001b[0m\u001b[0;34m\u001b[0m\u001b[0;34m\u001b[0m\u001b[0m\n\u001b[0m\u001b[1;32m   1648\u001b[0m         \u001b[0;32mfor\u001b[0m \u001b[0mline\u001b[0m \u001b[0;32min\u001b[0m \u001b[0mlines\u001b[0m\u001b[0;34m:\u001b[0m\u001b[0;34m\u001b[0m\u001b[0;34m\u001b[0m\u001b[0m\n\u001b[1;32m   1649\u001b[0m             \u001b[0mself\u001b[0m\u001b[0;34m.\u001b[0m\u001b[0madd_line\u001b[0m\u001b[0;34m(\u001b[0m\u001b[0mline\u001b[0m\u001b[0;34m)\u001b[0m\u001b[0;34m\u001b[0m\u001b[0;34m\u001b[0m\u001b[0m\n",
            "\u001b[0;32m/usr/local/lib/python3.8/dist-packages/matplotlib/axes/_base.py\u001b[0m in \u001b[0;36m__call__\u001b[0;34m(self, *args, **kwargs)\u001b[0m\n\u001b[1;32m    214\u001b[0m                 \u001b[0mthis\u001b[0m \u001b[0;34m+=\u001b[0m \u001b[0margs\u001b[0m\u001b[0;34m[\u001b[0m\u001b[0;36m0\u001b[0m\u001b[0;34m]\u001b[0m\u001b[0;34m,\u001b[0m\u001b[0;34m\u001b[0m\u001b[0;34m\u001b[0m\u001b[0m\n\u001b[1;32m    215\u001b[0m                 \u001b[0margs\u001b[0m \u001b[0;34m=\u001b[0m \u001b[0margs\u001b[0m\u001b[0;34m[\u001b[0m\u001b[0;36m1\u001b[0m\u001b[0;34m:\u001b[0m\u001b[0;34m]\u001b[0m\u001b[0;34m\u001b[0m\u001b[0;34m\u001b[0m\u001b[0m\n\u001b[0;32m--> 216\u001b[0;31m             \u001b[0;32myield\u001b[0m \u001b[0;32mfrom\u001b[0m \u001b[0mself\u001b[0m\u001b[0;34m.\u001b[0m\u001b[0m_plot_args\u001b[0m\u001b[0;34m(\u001b[0m\u001b[0mthis\u001b[0m\u001b[0;34m,\u001b[0m \u001b[0mkwargs\u001b[0m\u001b[0;34m)\u001b[0m\u001b[0;34m\u001b[0m\u001b[0;34m\u001b[0m\u001b[0m\n\u001b[0m\u001b[1;32m    217\u001b[0m \u001b[0;34m\u001b[0m\u001b[0m\n\u001b[1;32m    218\u001b[0m     \u001b[0;32mdef\u001b[0m \u001b[0mget_next_color\u001b[0m\u001b[0;34m(\u001b[0m\u001b[0mself\u001b[0m\u001b[0;34m)\u001b[0m\u001b[0;34m:\u001b[0m\u001b[0;34m\u001b[0m\u001b[0;34m\u001b[0m\u001b[0m\n",
            "\u001b[0;32m/usr/local/lib/python3.8/dist-packages/matplotlib/axes/_base.py\u001b[0m in \u001b[0;36m_plot_args\u001b[0;34m(self, tup, kwargs)\u001b[0m\n\u001b[1;32m    340\u001b[0m \u001b[0;34m\u001b[0m\u001b[0m\n\u001b[1;32m    341\u001b[0m         \u001b[0;32mif\u001b[0m \u001b[0mx\u001b[0m\u001b[0;34m.\u001b[0m\u001b[0mshape\u001b[0m\u001b[0;34m[\u001b[0m\u001b[0;36m0\u001b[0m\u001b[0;34m]\u001b[0m \u001b[0;34m!=\u001b[0m \u001b[0my\u001b[0m\u001b[0;34m.\u001b[0m\u001b[0mshape\u001b[0m\u001b[0;34m[\u001b[0m\u001b[0;36m0\u001b[0m\u001b[0;34m]\u001b[0m\u001b[0;34m:\u001b[0m\u001b[0;34m\u001b[0m\u001b[0;34m\u001b[0m\u001b[0m\n\u001b[0;32m--> 342\u001b[0;31m             raise ValueError(f\"x and y must have same first dimension, but \"\n\u001b[0m\u001b[1;32m    343\u001b[0m                              f\"have shapes {x.shape} and {y.shape}\")\n\u001b[1;32m    344\u001b[0m         \u001b[0;32mif\u001b[0m \u001b[0mx\u001b[0m\u001b[0;34m.\u001b[0m\u001b[0mndim\u001b[0m \u001b[0;34m>\u001b[0m \u001b[0;36m2\u001b[0m \u001b[0;32mor\u001b[0m \u001b[0my\u001b[0m\u001b[0;34m.\u001b[0m\u001b[0mndim\u001b[0m \u001b[0;34m>\u001b[0m \u001b[0;36m2\u001b[0m\u001b[0;34m:\u001b[0m\u001b[0;34m\u001b[0m\u001b[0;34m\u001b[0m\u001b[0m\n",
            "\u001b[0;31mValueError\u001b[0m: x and y must have same first dimension, but have shapes (19620,) and (730,)"
          ]
        },
        {
          "output_type": "display_data",
          "data": {
            "text/plain": [
              "<Figure size 1080x504 with 1 Axes>"
            ],
            "image/png": "[encoded data removed]"
          },
          "metadata": {
            "needs_background": "light"
          }
        }
      ]
    },
    {
      "cell_type": "code",
      "source": [
        "fig = make_subplots(rows=3, cols=1, shared_xaxes = True, vertical_spacing=0.02)\n",
        "\n",
        "df_plot = df[[\"Daily Mean PM2.5 Concentration\", \"Daily Mean PM10 Concentration\", \"Daily Max 8-hour Ozone Concentration\"]].groupby(df.index).agg(\"mean\")\n",
        "\n",
        "fig.add_trace(go.Scatter(x = df_plot.index, y = df_plot[\"Daily Mean PM2.5 Concentration\"], name = \"PM2.5\", \n",
        "                         line=dict(color=\"crimson\"), mode = \"markers+lines\", hovertemplate=\"%{y} ug/m^3<br>\"),\n",
        "              row = 1, col = 1)\n",
        "\n",
        "fig.add_hline(y=12, line_dash=\"dot\", row=1, col=1)\n",
        "\n",
        "fig.add_trace(go.Scatter(x = df_plot.index, y = df_plot[\"Daily Mean PM10 Concentration\"], name = \"PM10\",\n",
        "                        line=dict(color=\"blue\"), mode = \"markers+lines\",hovertemplate=\"%{y} ug/m^3<br>\"),\n",
        "              row = 2, col = 1)\n",
        "\n",
        "fig.add_hline(y=150, line_dash=\"dot\", row=2, col=1)\n",
        "\n",
        "fig.add_trace(go.Scatter(x = df_plot.index, y = df_plot[\"Daily Max 8-hour Ozone Concentration\"], name = \"Ozone\",\n",
        "                        line=dict(color=\"darkcyan\"), mode = \"markers+lines\", hovertemplate=\"%{y} ppm<br>\"),\n",
        "              row = 3, col = 1)\n",
        "\n",
        "fig.add_hline(y=0.07, line_dash=\"dot\", row=3, col=1)\n",
        "\n",
        "fig.update_xaxes(title = None)\n",
        "fig.update_yaxes(title = None)\n",
        "\n",
        "fig.update_layout(showlegend=True,\n",
        "                 title = \"Average Air Pollution in Salt Lake County\")"
      ],
      "metadata": {
        "colab": {
          "base_uri": "https://localhost:8080/",
          "height": 542
        },
        "id": "vOtn-yfb4T0R",
        "outputId": "eb5f5151-72b1-4395-85e3-0f0d03f4e0a4"
      },
      "execution_count": 93,
      "outputs": [
        {
          "output_type": "display_data",
          "data": {
            "text/html": [
              "<html>\n",
              "<head><meta charset=\"utf-8\" /></head>\n",
              "<body>\n",
              "    <div>            <script src=\"https://cdnjs.cloudflare.com/ajax/libs/mathjax/2.7.5/MathJax.js?config=TeX-AMS-MML_SVG\"></script><script type=\"text/javascript\">if (window.MathJax) {MathJax.Hub.Config({SVG: {font: \"STIX-Web\"}});}</script>                <script type=\"text/javascript\">window.PlotlyConfig = {MathJaxConfig: 'local'};</script>\n",
              "        <script src=\"https://cdn.plot.ly/plotly-2.8.3.min.js\"></script>                <div id=\"46a94d23-82c9-4455-a99b-db7f52ac72f2\" class=\"plotly-graph-div\" style=\"height:525px; width:100%;\"></div>            <script type=\"text/javascript\">                                    window.PLOTLYENV=window.PLOTLYENV || {};                                    if (document.getElementById(\"46a94d23-82c9-4455-a99b-db7f52ac72f2\")) {                    Plotly.newPlot(                        \"46a94d23-82c9-4455-a99b-db7f52ac72f2\",                        [{\"hovertemplate\":\"%{y} ug/m^3<br>\",\"line\":{\"color\":\"crimson\"},\"mode\":\"markers+lines\",\"name\":\"PM2.5\",\"x\":[\"2021-01-01T00:00:00\",\"2021-01-02T00:00:00\",\"2021-01-03T00:00:00\",\"2021-01-04T00:00:00\",\"2021-01-05T00:00:00\",\"2021-01-06T00:00:00\",\"2021-01-07T00:00:00\",\"2021-01-08T00:00:00\",\"2021-01-09T00:00:00\",\"2021-01-10T00:00:00\",\"2021-01-11T00:00:00\",\"2021-01-12T00:00:00\",\"2021-01-13T00:00:00\",\"2021-01-14T00:00:00\",\"2021-01-15T00:00:00\",\"2021-01-16T00:00:00\",\"2021-01-17T00:00:00\",\"2021-01-18T00:00:00\",\"2021-01-19T00:00:00\",\"2021-01-20T00:00:00\",\"2021-01-21T00:00:00\",\"2021-01-22T00:00:00\",\"2021-01-23T00:00:00\",\"2021-01-24T00:00:00\",\"2021-01-25T00:00:00\",\"2021-01-26T00:00:00\",\"2021-01-27T00:00:00\",\"2021-01-28T00:00:00\",\"2021-01-29T00:00:00\",\"2021-01-30T00:00:00\",\"2021-01-31T00:00:00\",\"2021-02-01T00:00:00\",\"2021-02-02T00:00:00\",\"2021-02-03T00:00:00\",\"2021-02-04T00:00:00\",\"2021-02-05T00:00:00\",\"2021-02-06T00:00:00\",\"2021-02-07T00:00:00\",\"2021-02-08T00:00:00\",\"2021-02-09T00:00:00\",\"2021-02-10T00:00:00\",\"2021-02-11T00:00:00\",\"2021-02-12T00:00:00\",\"2021-02-13T00:00:00\",\"2021-02-14T00:00:00\",\"2021-02-15T00:00:00\",\"2021-02-16T00:00:00\",\"2021-02-17T00:00:00\",\"2021-02-18T00:00:00\",\"2021-02-19T00:00:00\",\"2021-02-20T00:00:00\",\"2021-02-21T00:00:00\",\"2021-02-22T00:00:00\",\"2021-02-23T00:00:00\",\"2021-02-24T00:00:00\",\"2021-02-25T00:00:00\",\"2021-02-26T00:00:00\",\"2021-02-27T00:00:00\",\"2021-02-28T00:00:00\",\"2021-03-01T00:00:00\",\"2021-03-02T00:00:00\",\"2021-03-03T00:00:00\",\"2021-03-04T00:00:00\",\"2021-03-05T00:00:00\",\"2021-03-06T00:00:00\",\"2021-03-07T00:00:00\",\"2021-03-08T00:00:00\",\"2021-03-09T00:00:00\",\"2021-03-10T00:00:00\",\"2021-03-11T00:00:00\",\"2021-03-12T00:00:00\",\"2021-03-13T00:00:00\",\"2021-03-14T00:00:00\",\"2021-03-15T00:00:00\",\"2021-03-16T00:00:00\",\"2021-03-17T00:00:00\",\"2021-03-18T00:00:00\",\"2021-03-19T00:00:00\",\"2021-03-20T00:00:00\",\"2021-03-21T00:00:00\",\"2021-03-22T00:00:00\",\"2021-03-23T00:00:00\",\"2021-03-24T00:00:00\",\"2021-03-25T00:00:00\",\"2021-03-26T00:00:00\",\"2021-03-27T00:00:00\",\"2021-03-28T00:00:00\",\"2021-03-29T00:00:00\",\"2021-03-30T00:00:00\",\"2021-03-31T00:00:00\",\"2021-04-01T00:00:00\",\"2021-04-02T00:00:00\",\"2021-04-03T00:00:00\",\"2021-04-04T00:00:00\",\"2021-04-05T00:00:00\",\"2021-04-06T00:00:00\",\"2021-04-07T00:00:00\",\"2021-04-08T00:00:00\",\"2021-04-09T00:00:00\",\"2021-04-10T00:00:00\",\"2021-04-11T00:00:00\",\"2021-04-12T00:00:00\",\"2021-04-13T00:00:00\",\"2021-04-14T00:00:00\",\"2021-04-15T00:00:00\",\"2021-04-16T00:00:00\",\"2021-04-17T00:00:00\",\"2021-04-18T00:00:00\",\"2021-04-19T00:00:00\",\"2021-04-20T00:00:00\",\"2021-04-21T00:00:00\",\"2021-04-22T00:00:00\",\"2021-04-23T00:00:00\",\"2021-04-24T00:00:00\",\"2021-04-25T00:00:00\",\"2021-04-26T00:00:00\",\"2021-04-27T00:00:00\",\"2021-04-28T00:00:00\",\"2021-04-29T00:00:00\",\"2021-04-30T00:00:00\",\"2021-05-01T00:00:00\",\"2021-05-02T00:00:00\",\"2021-05-03T00:00:00\",\"2021-05-04T00:00:00\",\"2021-05-05T00:00:00\",\"2021-05-06T00:00:00\",\"2021-05-07T00:00:00\",\"2021-05-08T00:00:00\",\"2021-05-09T00:00:00\",\"2021-05-10T00:00:00\",\"2021-05-11T00:00:00\",\"2021-05-12T00:00:00\",\"2021-05-13T00:00:00\",\"2021-05-14T00:00:00\",\"2021-05-15T00:00:00\",\"2021-05-16T00:00:00\",\"2021-05-17T00:00:00\",\"2021-05-18T00:00:00\",\"2021-05-19T00:00:00\",\"2021-05-20T00:00:00\",\"2021-05-21T00:00:00\",\"2021-05-22T00:00:00\",\"2021-05-23T00:00:00\",\"2021-05-24T00:00:00\",\"2021-05-25T00:00:00\",\"2021-05-26T00:00:00\",\"2021-05-27T00:00:00\",\"2021-05-28T00:00:00\",\"2021-05-29T00:00:00\",\"2021-05-30T00:00:00\",\"2021-05-31T00:00:00\",\"2021-06-01T00:00:00\",\"2021-06-02T00:00:00\",\"2021-06-03T00:00:00\",\"2021-06-04T00:00:00\",\"2021-06-05T00:00:00\",\"2021-06-06T00:00:00\",\"2021-06-07T00:00:00\",\"2021-06-08T00:00:00\",\"2021-06-09T00:00:00\",\"2021-06-10T00:00:00\",\"2021-06-11T00:00:00\",\"2021-06-12T00:00:00\",\"2021-06-13T00:00:00\",\"2021-06-14T00:00:00\",\"2021-06-15T00:00:00\",\"2021-06-16T00:00:00\",\"2021-06-17T00:00:00\",\"2021-06-18T00:00:00\",\"2021-06-19T00:00:00\",\"2021-06-20T00:00:00\",\"2021-06-21T00:00:00\",\"2021-06-22T00:00:00\",\"2021-06-23T00:00:00\",\"2021-06-24T00:00:00\",\"2021-06-25T00:00:00\",\"2021-06-26T00:00:00\",\"2021-06-27T00:00:00\",\"2021-06-28T00:00:00\",\"2021-06-29T00:00:00\",\"2021-06-30T00:00:00\",\"2021-07-01T00:00:00\",\"2021-07-02T00:00:00\",\"2021-07-03T00:00:00\",\"2021-07-04T00:00:00\",\"2021-07-05T00:00:00\",\"2021-07-06T00:00:00\",\"2021-07-07T00:00:00\",\"2021-07-08T00:00:00\",\"2021-07-09T00:00:00\",\"2021-07-10T00:00:00\",\"2021-07-11T00:00:00\",\"2021-07-12T00:00:00\",\"2021-07-13T00:00:00\",\"2021-07-14T00:00:00\",\"2021-07-15T00:00:00\",\"2021-07-16T00:00:00\",\"2021-07-17T00:00:00\",\"2021-07-18T00:00:00\",\"2021-07-19T00:00:00\",\"2021-07-20T00:00:00\",\"2021-07-21T00:00:00\",\"2021-07-22T00:00:00\",\"2021-07-23T00:00:00\",\"2021-07-24T00:00:00\",\"2021-07-25T00:00:00\",\"2021-07-26T00:00:00\",\"2021-07-27T00:00:00\",\"2021-07-28T00:00:00\",\"2021-07-29T00:00:00\",\"2021-07-30T00:00:00\",\"2021-07-31T00:00:00\",\"2021-08-01T00:00:00\",\"2021-08-02T00:00:00\",\"2021-08-03T00:00:00\",\"2021-08-04T00:00:00\",\"2021-08-05T00:00:00\",\"2021-08-06T00:00:00\",\"2021-08-07T00:00:00\",\"2021-08-08T00:00:00\",\"2021-08-09T00:00:00\",\"2021-08-10T00:00:00\",\"2021-08-11T00:00:00\",\"2021-08-12T00:00:00\",\"2021-08-13T00:00:00\",\"2021-08-14T00:00:00\",\"2021-08-15T00:00:00\",\"2021-08-16T00:00:00\",\"2021-08-17T00:00:00\",\"2021-08-18T00:00:00\",\"2021-08-19T00:00:00\",\"2021-08-20T00:00:00\",\"2021-08-21T00:00:00\",\"2021-08-22T00:00:00\",\"2021-08-23T00:00:00\",\"2021-08-24T00:00:00\",\"2021-08-25T00:00:00\",\"2021-08-26T00:00:00\",\"2021-08-27T00:00:00\",\"2021-08-28T00:00:00\",\"2021-08-29T00:00:00\",\"2021-08-30T00:00:00\",\"2021-08-31T00:00:00\",\"2021-09-01T00:00:00\",\"2021-09-02T00:00:00\",\"2021-09-03T00:00:00\",\"2021-09-04T00:00:00\",\"2021-09-05T00:00:00\",\"2021-09-06T00:00:00\",\"2021-09-07T00:00:00\",\"2021-09-08T00:00:00\",\"2021-09-09T00:00:00\",\"2021-09-10T00:00:00\",\"2021-09-11T00:00:00\",\"2021-09-12T00:00:00\",\"2021-09-13T00:00:00\",\"2021-09-14T00:00:00\",\"2021-09-15T00:00:00\",\"2021-09-16T00:00:00\",\"2021-09-17T00:00:00\",\"2021-09-18T00:00:00\",\"2021-09-19T00:00:00\",\"2021-09-20T00:00:00\",\"2021-09-21T00:00:00\",\"2021-09-22T00:00:00\",\"2021-09-23T00:00:00\",\"2021-09-24T00:00:00\",\"2021-09-25T00:00:00\",\"2021-09-26T00:00:00\",\"2021-09-27T00:00:00\",\"2021-09-28T00:00:00\",\"2021-09-29T00:00:00\",\"2021-09-30T00:00:00\",\"2021-10-01T00:00:00\",\"2021-10-02T00:00:00\",\"2021-10-03T00:00:00\",\"2021-10-04T00:00:00\",\"2021-10-05T00:00:00\",\"2021-10-06T00:00:00\",\"2021-10-07T00:00:00\",\"2021-10-08T00:00:00\",\"2021-10-09T00:00:00\",\"2021-10-10T00:00:00\",\"2021-10-11T00:00:00\",\"2021-10-12T00:00:00\",\"2021-10-13T00:00:00\",\"2021-10-14T00:00:00\",\"2021-10-15T00:00:00\",\"2021-10-16T00:00:00\",\"2021-10-17T00:00:00\",\"2021-10-18T00:00:00\",\"2021-10-19T00:00:00\",\"2021-10-20T00:00:00\",\"2021-10-21T00:00:00\",\"2021-10-22T00:00:00\",\"2021-10-23T00:00:00\",\"2021-10-24T00:00:00\",\"2021-10-25T00:00:00\",\"2021-10-26T00:00:00\",\"2021-10-27T00:00:00\",\"2021-10-28T00:00:00\",\"2021-10-29T00:00:00\",\"2021-10-30T00:00:00\",\"2021-10-31T00:00:00\",\"2021-11-01T00:00:00\",\"2021-11-02T00:00:00\",\"2021-11-03T00:00:00\",\"2021-11-04T00:00:00\",\"2021-11-05T00:00:00\",\"2021-11-06T00:00:00\",\"2021-11-07T00:00:00\",\"2021-11-08T00:00:00\",\"2021-11-09T00:00:00\",\"2021-11-10T00:00:00\",\"2021-11-11T00:00:00\",\"2021-11-12T00:00:00\",\"2021-11-13T00:00:00\",\"2021-11-14T00:00:00\",\"2021-11-15T00:00:00\",\"2021-11-16T00:00:00\",\"2021-11-17T00:00:00\",\"2021-11-18T00:00:00\",\"2021-11-19T00:00:00\",\"2021-11-20T00:00:00\",\"2021-11-21T00:00:00\",\"2021-11-22T00:00:00\",\"2021-11-23T00:00:00\",\"2021-11-24T00:00:00\",\"2021-11-25T00:00:00\",\"2021-11-26T00:00:00\",\"2021-11-27T00:00:00\",\"2021-11-28T00:00:00\",\"2021-11-29T00:00:00\",\"2021-11-30T00:00:00\",\"2021-12-01T00:00:00\",\"2021-12-02T00:00:00\",\"2021-12-03T00:00:00\",\"2021-12-04T00:00:00\",\"2021-12-05T00:00:00\",\"2021-12-06T00:00:00\",\"2021-12-07T00:00:00\",\"2021-12-08T00:00:00\",\"2021-12-09T00:00:00\",\"2021-12-10T00:00:00\",\"2021-12-11T00:00:00\",\"2021-12-12T00:00:00\",\"2021-12-13T00:00:00\",\"2021-12-14T00:00:00\",\"2021-12-15T00:00:00\",\"2021-12-16T00:00:00\",\"2021-12-17T00:00:00\",\"2021-12-18T00:00:00\",\"2021-12-19T00:00:00\",\"2021-12-20T00:00:00\",\"2021-12-21T00:00:00\",\"2021-12-22T00:00:00\",\"2021-12-23T00:00:00\",\"2021-12-24T00:00:00\",\"2021-12-25T00:00:00\",\"2021-12-26T00:00:00\",\"2021-12-27T00:00:00\",\"2021-12-28T00:00:00\",\"2021-12-29T00:00:00\",\"2021-12-30T00:00:00\",\"2021-12-31T00:00:00\",\"2022-01-01T00:00:00\",\"2022-01-02T00:00:00\",\"2022-01-03T00:00:00\",\"2022-01-04T00:00:00\",\"2022-01-05T00:00:00\",\"2022-01-06T00:00:00\",\"2022-01-07T00:00:00\",\"2022-01-08T00:00:00\",\"2022-01-09T00:00:00\",\"2022-01-10T00:00:00\",\"2022-01-11T00:00:00\",\"2022-01-12T00:00:00\",\"2022-01-13T00:00:00\",\"2022-01-14T00:00:00\",\"2022-01-15T00:00:00\",\"2022-01-16T00:00:00\",\"2022-01-17T00:00:00\",\"2022-01-18T00:00:00\",\"2022-01-19T00:00:00\",\"2022-01-20T00:00:00\",\"2022-01-21T00:00:00\",\"2022-01-22T00:00:00\",\"2022-01-23T00:00:00\",\"2022-01-24T00:00:00\",\"2022-01-25T00:00:00\",\"2022-01-26T00:00:00\",\"2022-01-27T00:00:00\",\"2022-01-28T00:00:00\",\"2022-01-29T00:00:00\",\"2022-01-30T00:00:00\",\"2022-01-31T00:00:00\",\"2022-02-01T00:00:00\",\"2022-02-02T00:00:00\",\"2022-02-03T00:00:00\",\"2022-02-04T00:00:00\",\"2022-02-05T00:00:00\",\"2022-02-06T00:00:00\",\"2022-02-07T00:00:00\",\"2022-02-08T00:00:00\",\"2022-02-09T00:00:00\",\"2022-02-10T00:00:00\",\"2022-02-11T00:00:00\",\"2022-02-12T00:00:00\",\"2022-02-13T00:00:00\",\"2022-02-14T00:00:00\",\"2022-02-15T00:00:00\",\"2022-02-16T00:00:00\",\"2022-02-17T00:00:00\",\"2022-02-18T00:00:00\",\"2022-02-19T00:00:00\",\"2022-02-20T00:00:00\",\"2022-02-21T00:00:00\",\"2022-02-22T00:00:00\",\"2022-02-23T00:00:00\",\"2022-02-24T00:00:00\",\"2022-02-25T00:00:00\",\"2022-02-26T00:00:00\",\"2022-02-27T00:00:00\",\"2022-02-28T00:00:00\",\"2022-03-01T00:00:00\",\"2022-03-02T00:00:00\",\"2022-03-03T00:00:00\",\"2022-03-04T00:00:00\",\"2022-03-05T00:00:00\",\"2022-03-06T00:00:00\",\"2022-03-07T00:00:00\",\"2022-03-08T00:00:00\",\"2022-03-09T00:00:00\",\"2022-03-10T00:00:00\",\"2022-03-11T00:00:00\",\"2022-03-12T00:00:00\",\"2022-03-13T00:00:00\",\"2022-03-14T00:00:00\",\"2022-03-15T00:00:00\",\"2022-03-16T00:00:00\",\"2022-03-17T00:00:00\",\"2022-03-18T00:00:00\",\"2022-03-19T00:00:00\",\"2022-03-20T00:00:00\",\"2022-03-21T00:00:00\",\"2022-03-22T00:00:00\",\"2022-03-23T00:00:00\",\"2022-03-24T00:00:00\",\"2022-03-25T00:00:00\",\"2022-03-26T00:00:00\",\"2022-03-27T00:00:00\",\"2022-03-28T00:00:00\",\"2022-03-29T00:00:00\",\"2022-03-30T00:00:00\",\"2022-03-31T00:00:00\",\"2022-04-01T00:00:00\",\"2022-04-02T00:00:00\",\"2022-04-03T00:00:00\",\"2022-04-04T00:00:00\",\"2022-04-05T00:00:00\",\"2022-04-06T00:00:00\",\"2022-04-07T00:00:00\",\"2022-04-08T00:00:00\",\"2022-04-09T00:00:00\",\"2022-04-10T00:00:00\",\"2022-04-11T00:00:00\",\"2022-04-12T00:00:00\",\"2022-04-13T00:00:00\",\"2022-04-14T00:00:00\",\"2022-04-15T00:00:00\",\"2022-04-16T00:00:00\",\"2022-04-17T00:00:00\",\"2022-04-18T00:00:00\",\"2022-04-19T00:00:00\",\"2022-04-20T00:00:00\",\"2022-04-21T00:00:00\",\"2022-04-22T00:00:00\",\"2022-04-23T00:00:00\",\"2022-04-24T00:00:00\",\"2022-04-25T00:00:00\",\"2022-04-26T00:00:00\",\"2022-04-27T00:00:00\",\"2022-04-28T00:00:00\",\"2022-04-29T00:00:00\",\"2022-04-30T00:00:00\",\"2022-05-01T00:00:00\",\"2022-05-02T00:00:00\",\"2022-05-03T00:00:00\",\"2022-05-04T00:00:00\",\"2022-05-05T00:00:00\",\"2022-05-06T00:00:00\",\"2022-05-07T00:00:00\",\"2022-05-08T00:00:00\",\"2022-05-09T00:00:00\",\"2022-05-10T00:00:00\",\"2022-05-11T00:00:00\",\"2022-05-12T00:00:00\",\"2022-05-13T00:00:00\",\"2022-05-14T00:00:00\",\"2022-05-15T00:00:00\",\"2022-05-16T00:00:00\",\"2022-05-17T00:00:00\",\"2022-05-18T00:00:00\",\"2022-05-19T00:00:00\",\"2022-05-20T00:00:00\",\"2022-05-21T00:00:00\",\"2022-05-22T00:00:00\",\"2022-05-23T00:00:00\",\"2022-05-24T00:00:00\",\"2022-05-25T00:00:00\",\"2022-05-26T00:00:00\",\"2022-05-27T00:00:00\",\"2022-05-28T00:00:00\",\"2022-05-29T00:00:00\",\"2022-05-30T00:00:00\",\"2022-05-31T00:00:00\",\"2022-06-01T00:00:00\",\"2022-06-02T00:00:00\",\"2022-06-03T00:00:00\",\"2022-06-04T00:00:00\",\"2022-06-05T00:00:00\",\"2022-06-06T00:00:00\",\"2022-06-07T00:00:00\",\"2022-06-08T00:00:00\",\"2022-06-09T00:00:00\",\"2022-06-10T00:00:00\",\"2022-06-11T00:00:00\",\"2022-06-12T00:00:00\",\"2022-06-13T00:00:00\",\"2022-06-14T00:00:00\",\"2022-06-15T00:00:00\",\"2022-06-16T00:00:00\",\"2022-06-17T00:00:00\",\"2022-06-18T00:00:00\",\"2022-06-19T00:00:00\",\"2022-06-20T00:00:00\",\"2022-06-21T00:00:00\",\"2022-06-22T00:00:00\",\"2022-06-23T00:00:00\",\"2022-06-24T00:00:00\",\"2022-06-25T00:00:00\",\"2022-06-26T00:00:00\",\"2022-06-27T00:00:00\",\"2022-06-28T00:00:00\",\"2022-06-29T00:00:00\",\"2022-06-30T00:00:00\",\"2022-07-01T00:00:00\",\"2022-07-02T00:00:00\",\"2022-07-03T00:00:00\",\"2022-07-04T00:00:00\",\"2022-07-05T00:00:00\",\"2022-07-06T00:00:00\",\"2022-07-07T00:00:00\",\"2022-07-08T00:00:00\",\"2022-07-09T00:00:00\",\"2022-07-10T00:00:00\",\"2022-07-11T00:00:00\",\"2022-07-12T00:00:00\",\"2022-07-13T00:00:00\",\"2022-07-14T00:00:00\",\"2022-07-15T00:00:00\",\"2022-07-16T00:00:00\",\"2022-07-17T00:00:00\",\"2022-07-18T00:00:00\",\"2022-07-19T00:00:00\",\"2022-07-20T00:00:00\",\"2022-07-21T00:00:00\",\"2022-07-22T00:00:00\",\"2022-07-23T00:00:00\",\"2022-07-24T00:00:00\",\"2022-07-25T00:00:00\",\"2022-07-26T00:00:00\",\"2022-07-27T00:00:00\",\"2022-07-28T00:00:00\",\"2022-07-29T00:00:00\",\"2022-07-30T00:00:00\",\"2022-07-31T00:00:00\",\"2022-08-01T00:00:00\",\"2022-08-02T00:00:00\",\"2022-08-03T00:00:00\",\"2022-08-04T00:00:00\",\"2022-08-05T00:00:00\",\"2022-08-06T00:00:00\",\"2022-08-07T00:00:00\",\"2022-08-08T00:00:00\",\"2022-08-09T00:00:00\",\"2022-08-10T00:00:00\",\"2022-08-11T00:00:00\",\"2022-08-12T00:00:00\",\"2022-08-13T00:00:00\",\"2022-08-14T00:00:00\",\"2022-08-15T00:00:00\",\"2022-08-16T00:00:00\",\"2022-08-17T00:00:00\",\"2022-08-18T00:00:00\",\"2022-08-19T00:00:00\",\"2022-08-20T00:00:00\",\"2022-08-21T00:00:00\",\"2022-08-22T00:00:00\",\"2022-08-23T00:00:00\",\"2022-08-24T00:00:00\",\"2022-08-25T00:00:00\",\"2022-08-26T00:00:00\",\"2022-08-27T00:00:00\",\"2022-08-28T00:00:00\",\"2022-08-29T00:00:00\",\"2022-08-30T00:00:00\",\"2022-08-31T00:00:00\",\"2022-09-01T00:00:00\",\"2022-09-02T00:00:00\",\"2022-09-03T00:00:00\",\"2022-09-04T00:00:00\",\"2022-09-05T00:00:00\",\"2022-09-06T00:00:00\",\"2022-09-07T00:00:00\",\"2022-09-08T00:00:00\",\"2022-09-09T00:00:00\",\"2022-09-10T00:00:00\",\"2022-09-11T00:00:00\",\"2022-09-12T00:00:00\",\"2022-09-13T00:00:00\",\"2022-09-14T00:00:00\",\"2022-09-15T00:00:00\",\"2022-09-16T00:00:00\",\"2022-09-17T00:00:00\",\"2022-09-18T00:00:00\",\"2022-09-19T00:00:00\",\"2022-09-20T00:00:00\",\"2022-09-21T00:00:00\",\"2022-09-22T00:00:00\",\"2022-09-23T00:00:00\",\"2022-09-24T00:00:00\",\"2022-09-25T00:00:00\",\"2022-09-26T00:00:00\",\"2022-09-27T00:00:00\",\"2022-09-28T00:00:00\",\"2022-09-29T00:00:00\",\"2022-09-30T00:00:00\",\"2022-10-01T00:00:00\",\"2022-10-02T00:00:00\",\"2022-10-03T00:00:00\",\"2022-10-04T00:00:00\",\"2022-10-05T00:00:00\",\"2022-10-06T00:00:00\",\"2022-10-07T00:00:00\",\"2022-10-08T00:00:00\",\"2022-10-09T00:00:00\",\"2022-10-10T00:00:00\",\"2022-10-11T00:00:00\",\"2022-10-12T00:00:00\",\"2022-10-13T00:00:00\",\"2022-10-14T00:00:00\",\"2022-10-15T00:00:00\",\"2022-10-16T00:00:00\",\"2022-10-17T00:00:00\",\"2022-10-18T00:00:00\",\"2022-10-19T00:00:00\",\"2022-10-20T00:00:00\",\"2022-10-21T00:00:00\",\"2022-10-22T00:00:00\",\"2022-10-23T00:00:00\",\"2022-10-24T00:00:00\",\"2022-10-25T00:00:00\",\"2022-10-26T00:00:00\",\"2022-10-27T00:00:00\",\"2022-10-28T00:00:00\",\"2022-10-29T00:00:00\",\"2022-10-30T00:00:00\",\"2022-10-31T00:00:00\",\"2022-11-01T00:00:00\",\"2022-11-02T00:00:00\",\"2022-11-03T00:00:00\",\"2022-11-04T00:00:00\",\"2022-11-05T00:00:00\",\"2022-11-06T00:00:00\",\"2022-11-07T00:00:00\",\"2022-11-08T00:00:00\",\"2022-11-09T00:00:00\",\"2022-11-10T00:00:00\",\"2022-11-11T00:00:00\",\"2022-11-12T00:00:00\",\"2022-11-13T00:00:00\",\"2022-11-14T00:00:00\",\"2022-11-15T00:00:00\",\"2022-11-16T00:00:00\",\"2022-11-17T00:00:00\",\"2022-11-18T00:00:00\",\"2022-11-19T00:00:00\",\"2022-11-20T00:00:00\",\"2022-11-21T00:00:00\",\"2022-11-22T00:00:00\",\"2022-11-23T00:00:00\",\"2022-11-24T00:00:00\",\"2022-11-25T00:00:00\",\"2022-11-26T00:00:00\",\"2022-11-27T00:00:00\",\"2022-11-28T00:00:00\",\"2022-11-29T00:00:00\",\"2022-11-30T00:00:00\",\"2022-12-01T00:00:00\",\"2022-12-02T00:00:00\",\"2022-12-03T00:00:00\",\"2022-12-04T00:00:00\",\"2022-12-05T00:00:00\",\"2022-12-06T00:00:00\",\"2022-12-07T00:00:00\",\"2022-12-08T00:00:00\",\"2022-12-09T00:00:00\",\"2022-12-10T00:00:00\",\"2022-12-11T00:00:00\",\"2022-12-12T00:00:00\",\"2022-12-13T00:00:00\",\"2022-12-14T00:00:00\",\"2022-12-15T00:00:00\",\"2022-12-16T00:00:00\",\"2022-12-17T00:00:00\",\"2022-12-18T00:00:00\",\"2022-12-19T00:00:00\",\"2022-12-20T00:00:00\",\"2022-12-21T00:00:00\",\"2022-12-22T00:00:00\",\"2022-12-23T00:00:00\",\"2022-12-24T00:00:00\",\"2022-12-25T00:00:00\",\"2022-12-26T00:00:00\",\"2022-12-27T00:00:00\",\"2022-12-28T00:00:00\",\"2022-12-29T00:00:00\",\"2022-12-30T00:00:00\",\"2022-12-31T00:00:00\"],\"y\":[14.183333333333332,8.808333333333334,8.591666666666667,9.174999999999999,3.775,5.6499999999999995,11.745454545454544,13.681818181818182,10.866666666666667,9.408333333333333,17.650000000000002,23.3,17.425,3.483333333333334,6.3,11.9,11.950000000000001,6.983333333333333,2.983333333333333,8.418181818181818,16.675,11.254545454545454,3.2636363636363637,5.808333333333334,11.208333333333334,7.358333333333333,1.925,1.9416666666666667,1.9833333333333334,2.4333333333333336,5.45,12.166666666666666,13.283333333333333,2.6083333333333334,4.066666666666666,8.891666666666667,6.541666666666667,6.445454545454546,5.818181818181818,5.472727272727273,5.225,4.809090909090909,1.7916666666666667,2.2583333333333333,4.2250000000000005,2.7916666666666665,1.55,2.1416666666666666,4.325,3.7416666666666667,1.5,1.5333333333333332,5.016666666666667,3.658333333333333,3.1818181818181817,3.016666666666667,2.025,1.625,3.9545454545454546,6.654545454545455,9.758333333333333,7.3,6.1000000000000005,6.858333333333333,7.7,8.4,7.06,6.458333333333333,5.191666666666666,4.608333333333333,5.616666666666667,4.790909090909091,3.627272727272727,3.127272727272727,4.458333333333333,6.958333333333333,4.541666666666667,3.6333333333333333,3.225,2.0500000000000003,5.375,4.990909090909091,2.4,3.1916666666666664,3.1,4.458333333333333,3.9,7.9750000000000005,3.369230769230769,5.708333333333333,9.533333333333333,8.541666666666666,7.953846153846154,6.1,9.638461538461538,3.0384615384615383,4.961538461538462,6.846153846153846,3.0999999999999996,5.730769230769231,4.676923076923076,4.030769230769231,4.353846153846154,3.6923076923076925,4.3076923076923075,2.623076923076923,2.6923076923076925,4.938461538461539,5.672727272727273,3.9538461538461536,3.623076923076923,5.384615384615385,5.723076923076923,6.516666666666667,4.533333333333333,2.516666666666667,3.4923076923076923,4.346153846153846,5.661538461538461,5.738461538461538,4.746153846153846,3.569230769230769,2.769230769230769,3.753846153846154,5.323076923076924,6.808333333333334,9.26923076923077,2.630769230769231,2.769230769230769,2.9692307692307693,3.1,5.423076923076923,6.438461538461539,8.0,7.076923076923077,5.623076923076923,5.084615384615384,6.953846153846154,8.9,10.761538461538462,10.075000000000001,7.458333333333333,3.5,3.016666666666667,4.133333333333334,3.430769230769231,4.491666666666666,5.391666666666667,4.05,5.025,5.616666666666667,6.533333333333334,6.95,10.076923076923077,9.53076923076923,8.441666666666666,12.341666666666667,12.758333333333333,8.161538461538461,7.661538461538461,11.069230769230769,5.653846153846154,9.691666666666666,10.65,5.745454545454546,12.30909090909091,11.191666666666668,12.674999999999999,12.708333333333334,10.725,7.091666666666666,7.916666666666667,9.1,9.183333333333334,8.108333333333333,5.983333333333333,4.536363636363636,3.8181818181818183,5.0,4.625,3.8846153846153846,5.591666666666666,8.116666666666667,9.0,11.984615384615385,7.738461538461538,8.576923076923077,9.2,10.03076923076923,14.938461538461537,18.676923076923078,31.299999999999997,25.346153846153847,14.215384615384616,8.569230769230769,10.73076923076923,10.816666666666668,10.576923076923077,10.023076923076925,8.015384615384615,7.084615384615384,7.4923076923076914,6.266666666666667,8.458333333333334,22.974999999999998,33.40833333333333,22.724999999999998,5.616666666666667,5.866666666666667,6.872727272727272,4.790909090909091,5.608333333333333,4.392857142857143,4.530769230769231,12.87142857142857,21.12857142857143,13.9,49.71333333333334,44.72,41.14,25.62,23.233333333333334,12.693333333333333,9.9,11.293333333333333,14.213333333333333,42.419999999999995,42.86,27.040000000000003,46.53846153846154,32.15714285714286,18.05,11.520000000000001,9.214285714285714,4.9071428571428575,10.107692307692307,10.038461538461538,22.56153846153846,33.246153846153845,21.226666666666667,23.32,21.84,14.386666666666667,9.46,11.806666666666667,16.846666666666668,18.986666666666668,13.557142857142859,13.721428571428572,24.413333333333334,22.89333333333333,18.02,11.673333333333334,11.046666666666665,5.926666666666667,6.966666666666667,14.542857142857143,12.72,11.726666666666667,13.126666666666667,4.92,5.680000000000001,2.786666666666667,4.213333333333334,6.766666666666667,9.96,10.206666666666667,9.360000000000001,8.273333333333333,12.466666666666667,9.950000000000001,3.3076923076923075,6.05,7.286666666666666,8.886666666666667,7.366666666666666,7.753333333333333,7.142857142857143,3.292857142857143,5.7,3.7066666666666666,3.8,8.566666666666666,4.7266666666666675,1.48125,3.475,3.1375,4.6375,8.20625,5.0125,4.325,3.28125,4.89375,7.475,4.50625,3.7875,4.7375,3.02,1.9874999999999998,4.0125,5.125,7.0375,10.11875,12.60625,9.9,5.1,5.2875,6.625,10.76875,3.10625,1.95,6.58125,7.42,4.5,7.16875,5.85625,5.13125,4.8625,4.75,2.26875,3.34375,7.6875,12.825,8.85625,6.4,12.978571428571428,14.225,2.2875,7.1125,11.78,18.3625,17.84375,18.650000000000002,21.599999999999998,17.9875,18.9125,24.4875,17.38125,7.4125000000000005,8.61875,13.04375,5.04375,2.9,2.81875,3.8875,2.4125,2.5875,2.4625,2.45625,3.275,5.64375,8.1625,20.04375,34.45625,38.43125,40.65625,5.4125,0.675,0.975,1.2750000000000001,1.725,2.08125,6.58125,1.18125,2.5375,4.205882352941177,7.98235294117647,14.952941176470588,5.129411764705883,5.411764705882353,7.0,3.0,1.8823529411764706,5.711764705882352,13.811764705882354,27.9,24.570588235294117,28.91764705882353,24.15294117647059,21.74705882352941,25.923529411764704,31.69411764705882,38.72941176470588,33.51764705882353,19.83529411764706,8.25294117647059,6.341176470588235,12.035294117647059,17.653333333333332,9.194117647058825,7.764705882352941,10.276470588235293,14.223529411764707,21.55,27.50625,16.2375,2.235294117647059,2.9352941176470586,6.63125,13.73125,12.452941176470588,10.75,11.525,15.958823529411765,13.729411764705883,9.799999999999999,8.78125,9.735294117647058,10.170588235294119,6.594117647058823,4.635294117647058,2.823529411764706,5.270588235294118,5.788235294117648,4.711764705882352,2.6176470588235294,1.411764705882353,3.7058823529411766,5.76875,7.723529411764707,4.0,6.529411764705882,10.694117647058825,14.888235294117647,14.117647058823529,13.129411764705882,4.3,3.9,3.488235294117647,2.9411764705882355,5.30625,5.3125,3.0941176470588236,3.317647058823529,4.094117647058823,3.33125,2.51875,5.3,3.54,3.6437500000000003,3.20625,5.46875,4.79375,3.65625,3.3625,4.0125,5.1,5.11875,6.08125,5.4125,4.113333333333333,3.457142857142857,7.326666666666667,3.3866666666666663,4.166666666666667,4.9399999999999995,4.826666666666667,5.3133333333333335,6.006666666666666,3.8266666666666667,3.43125,5.925,6.61875,6.3375,2.6625,5.81875,3.15625,3.2625,3.65,3.05625,5.80625,3.975,8.835714285714285,14.360000000000001,4.45625,20.5875,4.5375,2.625,3.05,3.9,8.4,10.08125,9.74375,4.53125,5.45625,3.13125,5.15625,1.85625,4.7125,5.10625,11.2375,18.375,5.54375,3.4875,4.1625,5.89375,2.70625,3.625,4.4375,4.506666666666666,5.573333333333333,4.6066666666666665,5.70625,7.3374999999999995,2.24375,3.3,4.8125,3.25625,4.5875,6.1,6.03125,10.96875,7.06875,2.25,1.5,2.4466666666666668,3.55625,5.28125,5.66875,6.225,4.69375,5.425,5.34,6.4,8.08125,9.3625,7.74375,15.7625,5.23125,5.0375,6.55,6.375,21.14375,24.81875,12.7,4.1,3.98125,7.42,10.3375,8.625,5.00625,6.15,8.5875,7.7375,9.88125,9.7375,5.725,5.75625,8.05,8.6625,6.79375,5.653333333333333,4.875,6.239999999999999,9.2,9.435714285714285,8.192857142857143,10.328571428571427,8.335714285714285,5.673333333333333,7.135714285714286,6.0928571428571425,9.514285714285714,7.464285714285714,9.87142857142857,8.157142857142857,7.486666666666666,7.733333333333333,9.133333333333333,8.360000000000001,8.426666666666668,8.526666666666667,6.769230769230769,7.875,6.338461538461539,6.62,6.739999999999999,5.1571428571428575,7.671428571428572,11.31875,9.95,8.125,5.433333333333334,5.760000000000001,7.193333333333333,7.486666666666666,5.73125,5.39375,6.1125,4.2875,3.575,5.45,5.05,5.5,7.04375,5.3625,4.833333333333333,4.453333333333333,6.180000000000001,6.8374999999999995,6.675,5.0875,4.5875,4.0375,7.43125,9.2125,7.9125,7.08125,7.35,9.2625,7.175,7.46875,8.40625,9.45,9.375,14.38125,28.31875,33.25,26.05625,20.45,4.225,4.71875,4.6,4.55,9.925,4.573333333333333,3.1599999999999997,4.326666666666667,3.8125,4.425,5.525,6.166666666666667,6.38,6.986666666666666,6.575,5.3,5.164285714285714,4.3875,4.49375,5.725,6.09375,6.41875,7.046666666666667,6.625,7.15625,7.45,6.475,8.1625,8.925,9.506666666666666,9.020000000000001,7.775,6.93125,4.829411764705882,6.258823529411765,8.51764705882353,9.117647058823529,8.629411764705882,6.9,7.44375,2.70625,4.8875,3.864705882352941,4.047058823529412,4.252941176470588,10.61875,12.94375,10.1375,7.09375,3.925,3.95625,4.16875,4.1,1.6625,2.26875,2.8125,5.28125,0.925,3.3066666666666666,6.471428571428571,11.666666666666666,10.7,6.4,7.61875,8.8375,11.025,8.275,9.35,19.575,24.05,27.0875,19.8,9.007142857142856,11.685714285714285,15.0,7.626666666666667,2.8066666666666666,2.44,4.206666666666667,5.4625,5.1066666666666665,11.175,14.88125,6.25625,13.45625,19.2375,14.6625,6.199999999999999,3.55,1.4000000000000001,2.45,4.26875,4.275,6.89375,9.5375,13.7125,21.10625,27.90666666666667,28.226666666666667,7.3,3.0812500000000003,17.46875,35.480000000000004,39.46,18.993333333333332,1.74,1.9125,2.55,1.7375,2.55],\"type\":\"scatter\",\"xaxis\":\"x\",\"yaxis\":\"y\"},{\"hovertemplate\":\"%{y} ug/m^3<br>\",\"line\":{\"color\":\"blue\"},\"mode\":\"markers+lines\",\"name\":\"PM10\",\"x\":[\"2021-01-01T00:00:00\",\"2021-01-02T00:00:00\",\"2021-01-03T00:00:00\",\"2021-01-04T00:00:00\",\"2021-01-05T00:00:00\",\"2021-01-06T00:00:00\",\"2021-01-07T00:00:00\",\"2021-01-08T00:00:00\",\"2021-01-09T00:00:00\",\"2021-01-10T00:00:00\",\"2021-01-11T00:00:00\",\"2021-01-12T00:00:00\",\"2021-01-13T00:00:00\",\"2021-01-14T00:00:00\",\"2021-01-15T00:00:00\",\"2021-01-16T00:00:00\",\"2021-01-17T00:00:00\",\"2021-01-18T00:00:00\",\"2021-01-19T00:00:00\",\"2021-01-20T00:00:00\",\"2021-01-21T00:00:00\",\"2021-01-22T00:00:00\",\"2021-01-23T00:00:00\",\"2021-01-24T00:00:00\",\"2021-01-25T00:00:00\",\"2021-01-26T00:00:00\",\"2021-01-27T00:00:00\",\"2021-01-28T00:00:00\",\"2021-01-29T00:00:00\",\"2021-01-30T00:00:00\",\"2021-01-31T00:00:00\",\"2021-02-01T00:00:00\",\"2021-02-02T00:00:00\",\"2021-02-03T00:00:00\",\"2021-02-04T00:00:00\",\"2021-02-05T00:00:00\",\"2021-02-06T00:00:00\",\"2021-02-07T00:00:00\",\"2021-02-08T00:00:00\",\"2021-02-09T00:00:00\",\"2021-02-10T00:00:00\",\"2021-02-11T00:00:00\",\"2021-02-12T00:00:00\",\"2021-02-13T00:00:00\",\"2021-02-14T00:00:00\",\"2021-02-15T00:00:00\",\"2021-02-16T00:00:00\",\"2021-02-17T00:00:00\",\"2021-02-18T00:00:00\",\"2021-02-19T00:00:00\",\"2021-02-20T00:00:00\",\"2021-02-21T00:00:00\",\"2021-02-22T00:00:00\",\"2021-02-23T00:00:00\",\"2021-02-24T00:00:00\",\"2021-02-25T00:00:00\",\"2021-02-26T00:00:00\",\"2021-02-27T00:00:00\",\"2021-02-28T00:00:00\",\"2021-03-01T00:00:00\",\"2021-03-02T00:00:00\",\"2021-03-03T00:00:00\",\"2021-03-04T00:00:00\",\"2021-03-05T00:00:00\",\"2021-03-06T00:00:00\",\"2021-03-07T00:00:00\",\"2021-03-08T00:00:00\",\"2021-03-09T00:00:00\",\"2021-03-10T00:00:00\",\"2021-03-11T00:00:00\",\"2021-03-12T00:00:00\",\"2021-03-13T00:00:00\",\"2021-03-14T00:00:00\",\"2021-03-15T00:00:00\",\"2021-03-16T00:00:00\",\"2021-03-17T00:00:00\",\"2021-03-18T00:00:00\",\"2021-03-19T00:00:00\",\"2021-03-20T00:00:00\",\"2021-03-21T00:00:00\",\"2021-03-22T00:00:00\",\"2021-03-23T00:00:00\",\"2021-03-24T00:00:00\",\"2021-03-25T00:00:00\",\"2021-03-26T00:00:00\",\"2021-03-27T00:00:00\",\"2021-03-28T00:00:00\",\"2021-03-29T00:00:00\",\"2021-03-30T00:00:00\",\"2021-03-31T00:00:00\",\"2021-04-01T00:00:00\",\"2021-04-02T00:00:00\",\"2021-04-03T00:00:00\",\"2021-04-04T00:00:00\",\"2021-04-05T00:00:00\",\"2021-04-06T00:00:00\",\"2021-04-07T00:00:00\",\"2021-04-08T00:00:00\",\"2021-04-09T00:00:00\",\"2021-04-10T00:00:00\",\"2021-04-11T00:00:00\",\"2021-04-12T00:00:00\",\"2021-04-13T00:00:00\",\"2021-04-14T00:00:00\",\"2021-04-15T00:00:00\",\"2021-04-16T00:00:00\",\"2021-04-17T00:00:00\",\"2021-04-18T00:00:00\",\"2021-04-19T00:00:00\",\"2021-04-20T00:00:00\",\"2021-04-21T00:00:00\",\"2021-04-22T00:00:00\",\"2021-04-23T00:00:00\",\"2021-04-24T00:00:00\",\"2021-04-25T00:00:00\",\"2021-04-26T00:00:00\",\"2021-04-27T00:00:00\",\"2021-04-28T00:00:00\",\"2021-04-29T00:00:00\",\"2021-04-30T00:00:00\",\"2021-05-01T00:00:00\",\"2021-05-02T00:00:00\",\"2021-05-03T00:00:00\",\"2021-05-04T00:00:00\",\"2021-05-05T00:00:00\",\"2021-05-06T00:00:00\",\"2021-05-07T00:00:00\",\"2021-05-08T00:00:00\",\"2021-05-09T00:00:00\",\"2021-05-10T00:00:00\",\"2021-05-11T00:00:00\",\"2021-05-12T00:00:00\",\"2021-05-13T00:00:00\",\"2021-05-14T00:00:00\",\"2021-05-15T00:00:00\",\"2021-05-16T00:00:00\",\"2021-05-17T00:00:00\",\"2021-05-18T00:00:00\",\"2021-05-19T00:00:00\",\"2021-05-20T00:00:00\",\"2021-05-21T00:00:00\",\"2021-05-22T00:00:00\",\"2021-05-23T00:00:00\",\"2021-05-24T00:00:00\",\"2021-05-25T00:00:00\",\"2021-05-26T00:00:00\",\"2021-05-27T00:00:00\",\"2021-05-28T00:00:00\",\"2021-05-29T00:00:00\",\"2021-05-30T00:00:00\",\"2021-05-31T00:00:00\",\"2021-06-01T00:00:00\",\"2021-06-02T00:00:00\",\"2021-06-03T00:00:00\",\"2021-06-04T00:00:00\",\"2021-06-05T00:00:00\",\"2021-06-06T00:00:00\",\"2021-06-07T00:00:00\",\"2021-06-08T00:00:00\",\"2021-06-09T00:00:00\",\"2021-06-10T00:00:00\",\"2021-06-11T00:00:00\",\"2021-06-12T00:00:00\",\"2021-06-13T00:00:00\",\"2021-06-14T00:00:00\",\"2021-06-15T00:00:00\",\"2021-06-16T00:00:00\",\"2021-06-17T00:00:00\",\"2021-06-18T00:00:00\",\"2021-06-19T00:00:00\",\"2021-06-20T00:00:00\",\"2021-06-21T00:00:00\",\"2021-06-22T00:00:00\",\"2021-06-23T00:00:00\",\"2021-06-24T00:00:00\",\"2021-06-25T00:00:00\",\"2021-06-26T00:00:00\",\"2021-06-27T00:00:00\",\"2021-06-28T00:00:00\",\"2021-06-29T00:00:00\",\"2021-06-30T00:00:00\",\"2021-07-01T00:00:00\",\"2021-07-02T00:00:00\",\"2021-07-03T00:00:00\",\"2021-07-04T00:00:00\",\"2021-07-05T00:00:00\",\"2021-07-06T00:00:00\",\"2021-07-07T00:00:00\",\"2021-07-08T00:00:00\",\"2021-07-09T00:00:00\",\"2021-07-10T00:00:00\",\"2021-07-11T00:00:00\",\"2021-07-12T00:00:00\",\"2021-07-13T00:00:00\",\"2021-07-14T00:00:00\",\"2021-07-15T00:00:00\",\"2021-07-16T00:00:00\",\"2021-07-17T00:00:00\",\"2021-07-18T00:00:00\",\"2021-07-19T00:00:00\",\"2021-07-20T00:00:00\",\"2021-07-21T00:00:00\",\"2021-07-22T00:00:00\",\"2021-07-23T00:00:00\",\"2021-07-24T00:00:00\",\"2021-07-25T00:00:00\",\"2021-07-26T00:00:00\",\"2021-07-27T00:00:00\",\"2021-07-28T00:00:00\",\"2021-07-29T00:00:00\",\"2021-07-30T00:00:00\",\"2021-07-31T00:00:00\",\"2021-08-01T00:00:00\",\"2021-08-02T00:00:00\",\"2021-08-03T00:00:00\",\"2021-08-04T00:00:00\",\"2021-08-05T00:00:00\",\"2021-08-06T00:00:00\",\"2021-08-07T00:00:00\",\"2021-08-08T00:00:00\",\"2021-08-09T00:00:00\",\"2021-08-10T00:00:00\",\"2021-08-11T00:00:00\",\"2021-08-12T00:00:00\",\"2021-08-13T00:00:00\",\"2021-08-14T00:00:00\",\"2021-08-15T00:00:00\",\"2021-08-16T00:00:00\",\"2021-08-17T00:00:00\",\"2021-08-18T00:00:00\",\"2021-08-19T00:00:00\",\"2021-08-20T00:00:00\",\"2021-08-21T00:00:00\",\"2021-08-22T00:00:00\",\"2021-08-23T00:00:00\",\"2021-08-24T00:00:00\",\"2021-08-25T00:00:00\",\"2021-08-26T00:00:00\",\"2021-08-27T00:00:00\",\"2021-08-28T00:00:00\",\"2021-08-29T00:00:00\",\"2021-08-30T00:00:00\",\"2021-08-31T00:00:00\",\"2021-09-01T00:00:00\",\"2021-09-02T00:00:00\",\"2021-09-03T00:00:00\",\"2021-09-04T00:00:00\",\"2021-09-05T00:00:00\",\"2021-09-06T00:00:00\",\"2021-09-07T00:00:00\",\"2021-09-08T00:00:00\",\"2021-09-09T00:00:00\",\"2021-09-10T00:00:00\",\"2021-09-11T00:00:00\",\"2021-09-12T00:00:00\",\"2021-09-13T00:00:00\",\"2021-09-14T00:00:00\",\"2021-09-15T00:00:00\",\"2021-09-16T00:00:00\",\"2021-09-17T00:00:00\",\"2021-09-18T00:00:00\",\"2021-09-19T00:00:00\",\"2021-09-20T00:00:00\",\"2021-09-21T00:00:00\",\"2021-09-22T00:00:00\",\"2021-09-23T00:00:00\",\"2021-09-24T00:00:00\",\"2021-09-25T00:00:00\",\"2021-09-26T00:00:00\",\"2021-09-27T00:00:00\",\"2021-09-28T00:00:00\",\"2021-09-29T00:00:00\",\"2021-09-30T00:00:00\",\"2021-10-01T00:00:00\",\"2021-10-02T00:00:00\",\"2021-10-03T00:00:00\",\"2021-10-04T00:00:00\",\"2021-10-05T00:00:00\",\"2021-10-06T00:00:00\",\"2021-10-07T00:00:00\",\"2021-10-08T00:00:00\",\"2021-10-09T00:00:00\",\"2021-10-10T00:00:00\",\"2021-10-11T00:00:00\",\"2021-10-12T00:00:00\",\"2021-10-13T00:00:00\",\"2021-10-14T00:00:00\",\"2021-10-15T00:00:00\",\"2021-10-16T00:00:00\",\"2021-10-17T00:00:00\",\"2021-10-18T00:00:00\",\"2021-10-19T00:00:00\",\"2021-10-20T00:00:00\",\"2021-10-21T00:00:00\",\"2021-10-22T00:00:00\",\"2021-10-23T00:00:00\",\"2021-10-24T00:00:00\",\"2021-10-25T00:00:00\",\"2021-10-26T00:00:00\",\"2021-10-27T00:00:00\",\"2021-10-28T00:00:00\",\"2021-10-29T00:00:00\",\"2021-10-30T00:00:00\",\"2021-10-31T00:00:00\",\"2021-11-01T00:00:00\",\"2021-11-02T00:00:00\",\"2021-11-03T00:00:00\",\"2021-11-04T00:00:00\",\"2021-11-05T00:00:00\",\"2021-11-06T00:00:00\",\"2021-11-07T00:00:00\",\"2021-11-08T00:00:00\",\"2021-11-09T00:00:00\",\"2021-11-10T00:00:00\",\"2021-11-11T00:00:00\",\"2021-11-12T00:00:00\",\"2021-11-13T00:00:00\",\"2021-11-14T00:00:00\",\"2021-11-15T00:00:00\",\"2021-11-16T00:00:00\",\"2021-11-17T00:00:00\",\"2021-11-18T00:00:00\",\"2021-11-19T00:00:00\",\"2021-11-20T00:00:00\",\"2021-11-21T00:00:00\",\"2021-11-22T00:00:00\",\"2021-11-23T00:00:00\",\"2021-11-24T00:00:00\",\"2021-11-25T00:00:00\",\"2021-11-26T00:00:00\",\"2021-11-27T00:00:00\",\"2021-11-28T00:00:00\",\"2021-11-29T00:00:00\",\"2021-11-30T00:00:00\",\"2021-12-01T00:00:00\",\"2021-12-02T00:00:00\",\"2021-12-03T00:00:00\",\"2021-12-04T00:00:00\",\"2021-12-05T00:00:00\",\"2021-12-06T00:00:00\",\"2021-12-07T00:00:00\",\"2021-12-08T00:00:00\",\"2021-12-09T00:00:00\",\"2021-12-10T00:00:00\",\"2021-12-11T00:00:00\",\"2021-12-12T00:00:00\",\"2021-12-13T00:00:00\",\"2021-12-14T00:00:00\",\"2021-12-15T00:00:00\",\"2021-12-16T00:00:00\",\"2021-12-17T00:00:00\",\"2021-12-18T00:00:00\",\"2021-12-19T00:00:00\",\"2021-12-20T00:00:00\",\"2021-12-21T00:00:00\",\"2021-12-22T00:00:00\",\"2021-12-23T00:00:00\",\"2021-12-24T00:00:00\",\"2021-12-25T00:00:00\",\"2021-12-26T00:00:00\",\"2021-12-27T00:00:00\",\"2021-12-28T00:00:00\",\"2021-12-29T00:00:00\",\"2021-12-30T00:00:00\",\"2021-12-31T00:00:00\",\"2022-01-01T00:00:00\",\"2022-01-02T00:00:00\",\"2022-01-03T00:00:00\",\"2022-01-04T00:00:00\",\"2022-01-05T00:00:00\",\"2022-01-06T00:00:00\",\"2022-01-07T00:00:00\",\"2022-01-08T00:00:00\",\"2022-01-09T00:00:00\",\"2022-01-10T00:00:00\",\"2022-01-11T00:00:00\",\"2022-01-12T00:00:00\",\"2022-01-13T00:00:00\",\"2022-01-14T00:00:00\",\"2022-01-15T00:00:00\",\"2022-01-16T00:00:00\",\"2022-01-17T00:00:00\",\"2022-01-18T00:00:00\",\"2022-01-19T00:00:00\",\"2022-01-20T00:00:00\",\"2022-01-21T00:00:00\",\"2022-01-22T00:00:00\",\"2022-01-23T00:00:00\",\"2022-01-24T00:00:00\",\"2022-01-25T00:00:00\",\"2022-01-26T00:00:00\",\"2022-01-27T00:00:00\",\"2022-01-28T00:00:00\",\"2022-01-29T00:00:00\",\"2022-01-30T00:00:00\",\"2022-01-31T00:00:00\",\"2022-02-01T00:00:00\",\"2022-02-02T00:00:00\",\"2022-02-03T00:00:00\",\"2022-02-04T00:00:00\",\"2022-02-05T00:00:00\",\"2022-02-06T00:00:00\",\"2022-02-07T00:00:00\",\"2022-02-08T00:00:00\",\"2022-02-09T00:00:00\",\"2022-02-10T00:00:00\",\"2022-02-11T00:00:00\",\"2022-02-12T00:00:00\",\"2022-02-13T00:00:00\",\"2022-02-14T00:00:00\",\"2022-02-15T00:00:00\",\"2022-02-16T00:00:00\",\"2022-02-17T00:00:00\",\"2022-02-18T00:00:00\",\"2022-02-19T00:00:00\",\"2022-02-20T00:00:00\",\"2022-02-21T00:00:00\",\"2022-02-22T00:00:00\",\"2022-02-23T00:00:00\",\"2022-02-24T00:00:00\",\"2022-02-25T00:00:00\",\"2022-02-26T00:00:00\",\"2022-02-27T00:00:00\",\"2022-02-28T00:00:00\",\"2022-03-01T00:00:00\",\"2022-03-02T00:00:00\",\"2022-03-03T00:00:00\",\"2022-03-04T00:00:00\",\"2022-03-05T00:00:00\",\"2022-03-06T00:00:00\",\"2022-03-07T00:00:00\",\"2022-03-08T00:00:00\",\"2022-03-09T00:00:00\",\"2022-03-10T00:00:00\",\"2022-03-11T00:00:00\",\"2022-03-12T00:00:00\",\"2022-03-13T00:00:00\",\"2022-03-14T00:00:00\",\"2022-03-15T00:00:00\",\"2022-03-16T00:00:00\",\"2022-03-17T00:00:00\",\"2022-03-18T00:00:00\",\"2022-03-19T00:00:00\",\"2022-03-20T00:00:00\",\"2022-03-21T00:00:00\",\"2022-03-22T00:00:00\",\"2022-03-23T00:00:00\",\"2022-03-24T00:00:00\",\"2022-03-25T00:00:00\",\"2022-03-26T00:00:00\",\"2022-03-27T00:00:00\",\"2022-03-28T00:00:00\",\"2022-03-29T00:00:00\",\"2022-03-30T00:00:00\",\"2022-03-31T00:00:00\",\"2022-04-01T00:00:00\",\"2022-04-02T00:00:00\",\"2022-04-03T00:00:00\",\"2022-04-04T00:00:00\",\"2022-04-05T00:00:00\",\"2022-04-06T00:00:00\",\"2022-04-07T00:00:00\",\"2022-04-08T00:00:00\",\"2022-04-09T00:00:00\",\"2022-04-10T00:00:00\",\"2022-04-11T00:00:00\",\"2022-04-12T00:00:00\",\"2022-04-13T00:00:00\",\"2022-04-14T00:00:00\",\"2022-04-15T00:00:00\",\"2022-04-16T00:00:00\",\"2022-04-17T00:00:00\",\"2022-04-18T00:00:00\",\"2022-04-19T00:00:00\",\"2022-04-20T00:00:00\",\"2022-04-21T00:00:00\",\"2022-04-22T00:00:00\",\"2022-04-23T00:00:00\",\"2022-04-24T00:00:00\",\"2022-04-25T00:00:00\",\"2022-04-26T00:00:00\",\"2022-04-27T00:00:00\",\"2022-04-28T00:00:00\",\"2022-04-29T00:00:00\",\"2022-04-30T00:00:00\",\"2022-05-01T00:00:00\",\"2022-05-02T00:00:00\",\"2022-05-03T00:00:00\",\"2022-05-04T00:00:00\",\"2022-05-05T00:00:00\",\"2022-05-06T00:00:00\",\"2022-05-07T00:00:00\",\"2022-05-08T00:00:00\",\"2022-05-09T00:00:00\",\"2022-05-10T00:00:00\",\"2022-05-11T00:00:00\",\"2022-05-12T00:00:00\",\"2022-05-13T00:00:00\",\"2022-05-14T00:00:00\",\"2022-05-15T00:00:00\",\"2022-05-16T00:00:00\",\"2022-05-17T00:00:00\",\"2022-05-18T00:00:00\",\"2022-05-19T00:00:00\",\"2022-05-20T00:00:00\",\"2022-05-21T00:00:00\",\"2022-05-22T00:00:00\",\"2022-05-23T00:00:00\",\"2022-05-24T00:00:00\",\"2022-05-25T00:00:00\",\"2022-05-26T00:00:00\",\"2022-05-27T00:00:00\",\"2022-05-28T00:00:00\",\"2022-05-29T00:00:00\",\"2022-05-30T00:00:00\",\"2022-05-31T00:00:00\",\"2022-06-01T00:00:00\",\"2022-06-02T00:00:00\",\"2022-06-03T00:00:00\",\"2022-06-04T00:00:00\",\"2022-06-05T00:00:00\",\"2022-06-06T00:00:00\",\"2022-06-07T00:00:00\",\"2022-06-08T00:00:00\",\"2022-06-09T00:00:00\",\"2022-06-10T00:00:00\",\"2022-06-11T00:00:00\",\"2022-06-12T00:00:00\",\"2022-06-13T00:00:00\",\"2022-06-14T00:00:00\",\"2022-06-15T00:00:00\",\"2022-06-16T00:00:00\",\"2022-06-17T00:00:00\",\"2022-06-18T00:00:00\",\"2022-06-19T00:00:00\",\"2022-06-20T00:00:00\",\"2022-06-21T00:00:00\",\"2022-06-22T00:00:00\",\"2022-06-23T00:00:00\",\"2022-06-24T00:00:00\",\"2022-06-25T00:00:00\",\"2022-06-26T00:00:00\",\"2022-06-27T00:00:00\",\"2022-06-28T00:00:00\",\"2022-06-29T00:00:00\",\"2022-06-30T00:00:00\",\"2022-07-01T00:00:00\",\"2022-07-02T00:00:00\",\"2022-07-03T00:00:00\",\"2022-07-04T00:00:00\",\"2022-07-05T00:00:00\",\"2022-07-06T00:00:00\",\"2022-07-07T00:00:00\",\"2022-07-08T00:00:00\",\"2022-07-09T00:00:00\",\"2022-07-10T00:00:00\",\"2022-07-11T00:00:00\",\"2022-07-12T00:00:00\",\"2022-07-13T00:00:00\",\"2022-07-14T00:00:00\",\"2022-07-15T00:00:00\",\"2022-07-16T00:00:00\",\"2022-07-17T00:00:00\",\"2022-07-18T00:00:00\",\"2022-07-19T00:00:00\",\"2022-07-20T00:00:00\",\"2022-07-21T00:00:00\",\"2022-07-22T00:00:00\",\"2022-07-23T00:00:00\",\"2022-07-24T00:00:00\",\"2022-07-25T00:00:00\",\"2022-07-26T00:00:00\",\"2022-07-27T00:00:00\",\"2022-07-28T00:00:00\",\"2022-07-29T00:00:00\",\"2022-07-30T00:00:00\",\"2022-07-31T00:00:00\",\"2022-08-01T00:00:00\",\"2022-08-02T00:00:00\",\"2022-08-03T00:00:00\",\"2022-08-04T00:00:00\",\"2022-08-05T00:00:00\",\"2022-08-06T00:00:00\",\"2022-08-07T00:00:00\",\"2022-08-08T00:00:00\",\"2022-08-09T00:00:00\",\"2022-08-10T00:00:00\",\"2022-08-11T00:00:00\",\"2022-08-12T00:00:00\",\"2022-08-13T00:00:00\",\"2022-08-14T00:00:00\",\"2022-08-15T00:00:00\",\"2022-08-16T00:00:00\",\"2022-08-17T00:00:00\",\"2022-08-18T00:00:00\",\"2022-08-19T00:00:00\",\"2022-08-20T00:00:00\",\"2022-08-21T00:00:00\",\"2022-08-22T00:00:00\",\"2022-08-23T00:00:00\",\"2022-08-24T00:00:00\",\"2022-08-25T00:00:00\",\"2022-08-26T00:00:00\",\"2022-08-27T00:00:00\",\"2022-08-28T00:00:00\",\"2022-08-29T00:00:00\",\"2022-08-30T00:00:00\",\"2022-08-31T00:00:00\",\"2022-09-01T00:00:00\",\"2022-09-02T00:00:00\",\"2022-09-03T00:00:00\",\"2022-09-04T00:00:00\",\"2022-09-05T00:00:00\",\"2022-09-06T00:00:00\",\"2022-09-07T00:00:00\",\"2022-09-08T00:00:00\",\"2022-09-09T00:00:00\",\"2022-09-10T00:00:00\",\"2022-09-11T00:00:00\",\"2022-09-12T00:00:00\",\"2022-09-13T00:00:00\",\"2022-09-14T00:00:00\",\"2022-09-15T00:00:00\",\"2022-09-16T00:00:00\",\"2022-09-17T00:00:00\",\"2022-09-18T00:00:00\",\"2022-09-19T00:00:00\",\"2022-09-20T00:00:00\",\"2022-09-21T00:00:00\",\"2022-09-22T00:00:00\",\"2022-09-23T00:00:00\",\"2022-09-24T00:00:00\",\"2022-09-25T00:00:00\",\"2022-09-26T00:00:00\",\"2022-09-27T00:00:00\",\"2022-09-28T00:00:00\",\"2022-09-29T00:00:00\",\"2022-09-30T00:00:00\",\"2022-10-01T00:00:00\",\"2022-10-02T00:00:00\",\"2022-10-03T00:00:00\",\"2022-10-04T00:00:00\",\"2022-10-05T00:00:00\",\"2022-10-06T00:00:00\",\"2022-10-07T00:00:00\",\"2022-10-08T00:00:00\",\"2022-10-09T00:00:00\",\"2022-10-10T00:00:00\",\"2022-10-11T00:00:00\",\"2022-10-12T00:00:00\",\"2022-10-13T00:00:00\",\"2022-10-14T00:00:00\",\"2022-10-15T00:00:00\",\"2022-10-16T00:00:00\",\"2022-10-17T00:00:00\",\"2022-10-18T00:00:00\",\"2022-10-19T00:00:00\",\"2022-10-20T00:00:00\",\"2022-10-21T00:00:00\",\"2022-10-22T00:00:00\",\"2022-10-23T00:00:00\",\"2022-10-24T00:00:00\",\"2022-10-25T00:00:00\",\"2022-10-26T00:00:00\",\"2022-10-27T00:00:00\",\"2022-10-28T00:00:00\",\"2022-10-29T00:00:00\",\"2022-10-30T00:00:00\",\"2022-10-31T00:00:00\",\"2022-11-01T00:00:00\",\"2022-11-02T00:00:00\",\"2022-11-03T00:00:00\",\"2022-11-04T00:00:00\",\"2022-11-05T00:00:00\",\"2022-11-06T00:00:00\",\"2022-11-07T00:00:00\",\"2022-11-08T00:00:00\",\"2022-11-09T00:00:00\",\"2022-11-10T00:00:00\",\"2022-11-11T00:00:00\",\"2022-11-12T00:00:00\",\"2022-11-13T00:00:00\",\"2022-11-14T00:00:00\",\"2022-11-15T00:00:00\",\"2022-11-16T00:00:00\",\"2022-11-17T00:00:00\",\"2022-11-18T00:00:00\",\"2022-11-19T00:00:00\",\"2022-11-20T00:00:00\",\"2022-11-21T00:00:00\",\"2022-11-22T00:00:00\",\"2022-11-23T00:00:00\",\"2022-11-24T00:00:00\",\"2022-11-25T00:00:00\",\"2022-11-26T00:00:00\",\"2022-11-27T00:00:00\",\"2022-11-28T00:00:00\",\"2022-11-29T00:00:00\",\"2022-11-30T00:00:00\",\"2022-12-01T00:00:00\",\"2022-12-02T00:00:00\",\"2022-12-03T00:00:00\",\"2022-12-04T00:00:00\",\"2022-12-05T00:00:00\",\"2022-12-06T00:00:00\",\"2022-12-07T00:00:00\",\"2022-12-08T00:00:00\",\"2022-12-09T00:00:00\",\"2022-12-10T00:00:00\",\"2022-12-11T00:00:00\",\"2022-12-12T00:00:00\",\"2022-12-13T00:00:00\",\"2022-12-14T00:00:00\",\"2022-12-15T00:00:00\",\"2022-12-16T00:00:00\",\"2022-12-17T00:00:00\",\"2022-12-18T00:00:00\",\"2022-12-19T00:00:00\",\"2022-12-20T00:00:00\",\"2022-12-21T00:00:00\",\"2022-12-22T00:00:00\",\"2022-12-23T00:00:00\",\"2022-12-24T00:00:00\",\"2022-12-25T00:00:00\",\"2022-12-26T00:00:00\",\"2022-12-27T00:00:00\",\"2022-12-28T00:00:00\",\"2022-12-29T00:00:00\",\"2022-12-30T00:00:00\",\"2022-12-31T00:00:00\"],\"y\":[18.333333333333332,19.333333333333332,14.0,16.0,11.0,19.0,25.0,28.666666666666668,16.333333333333332,16.0,31.666666666666668,45.333333333333336,40.333333333333336,19.0,27.0,26.333333333333332,21.666666666666668,14.333333333333334,16.333333333333332,27.0,43.0,27.333333333333332,3.6666666666666665,9.666666666666666,18.0,12.0,10.333333333333334,10.0,8.666666666666666,5.666666666666667,10.333333333333334,26.666666666666668,28.666666666666668,24.333333333333332,43.0,64.5,69.0,39.5,35.5,25.0,16.5,19.666666666666668,5.666666666666667,3.6666666666666665,7.666666666666667,7.666666666666667,4.0,4.333333333333333,10.666666666666666,13.5,4.5,5.5,17.0,16.5,9.666666666666666,12.666666666666666,14.0,10.0,6.333333333333333,16.333333333333332,28.666666666666668,24.333333333333332,21.0,23.333333333333332,70.66666666666667,52.0,55.333333333333336,27.666666666666668,16.666666666666668,10.333333333333334,11.0,8.0,10.333333333333334,14.0,12.666666666666666,19.666666666666668,18.0,19.0,9.5,4.5,13.0,9.333333333333334,9.666666666666666,12.0,6.0,10.333333333333334,9.666666666666666,61.333333333333336,12.0,16.333333333333332,26.0,29.0,26.0,18.666666666666668,91.0,9.666666666666666,17.333333333333332,33.333333333333336,18.666666666666668,19.666666666666668,26.666666666666668,18.333333333333332,20.666666666666668,5.333333333333333,6.333333333333333,4.0,5.333333333333333,9.666666666666666,43.666666666666664,15.0,13.0,18.333333333333332,19.333333333333332,27.0,15.666666666666666,3.3333333333333335,5.666666666666667,9.333333333333334,18.333333333333332,23.666666666666668,24.0,13.333333333333334,8.333333333333334,13.666666666666666,20.666666666666668,27.0,76.33333333333333,9.333333333333334,10.0,6.666666666666667,9.0,18.333333333333332,24.333333333333332,45.666666666666664,29.666666666666668,18.333333333333332,15.333333333333334,22.666666666666668,44.0,69.0,53.0,26.666666666666668,9.0,9.666666666666666,15.333333333333334,11.0,19.0,20.666666666666668,12.666666666666666,16.333333333333332,15.666666666666666,21.0,25.0,31.666666666666668,36.666666666666664,32.666666666666664,50.333333333333336,52.0,32.333333333333336,27.0,47.0,22.0,26.666666666666668,27.333333333333332,24.0,41.0,43.0,39.0,37.0,32.666666666666664,22.0,32.666666666666664,31.666666666666668,32.333333333333336,16.333333333333332,14.666666666666666,15.5,12.0,12.666666666666666,15.333333333333334,14.666666666666666,19.5,26.0,22.666666666666668,32.333333333333336,17.333333333333332,23.333333333333332,27.666666666666668,30.666666666666668,33.0,35.0,49.666666666666664,55.666666666666664,47.666666666666664,24.0,33.5,36.666666666666664,30.666666666666668,26.0,29.0,18.0,19.333333333333332,20.333333333333332,22.666666666666668,38.666666666666664,44.666666666666664,41.333333333333336,17.666666666666668,20.333333333333332,16.333333333333332,18.666666666666668,13.0,9.666666666666666,9.666666666666666,21.0,36.666666666666664,34.0,104.66666666666667,64.66666666666667,66.33333333333333,55.0,48.333333333333336,33.666666666666664,35.0,37.0,33.333333333333336,65.0,74.33333333333333,76.5,52.666666666666664,37.666666666666664,28.0,27.333333333333332,15.666666666666666,14.0,21.666666666666668,27.333333333333332,45.333333333333336,59.666666666666664,43.333333333333336,40.666666666666664,50.0,38.666666666666664,23.0,33.666666666666664,32.0,32.666666666666664,27.0,30.666666666666668,54.333333333333336,61.0,51.333333333333336,41.0,24.666666666666668,14.666666666666666,23.666666666666668,30.333333333333332,44.0,34.333333333333336,38.666666666666664,13.0,29.666666666666668,10.666666666666666,20.666666666666668,31.0,38.0,35.0,28.0,23.333333333333332,43.0,68.66666666666667,17.333333333333332,22.0,24.333333333333332,21.333333333333332,21.0,25.0,24.0,10.333333333333334,12.0,9.666666666666666,5.333333333333333,10.333333333333334,11.333333333333334,4.333333333333333,7.333333333333333,5.333333333333333,10.666666666666666,16.333333333333332,12.666666666666666,16.0,4.666666666666667,13.0,20.333333333333332,19.0,7.333333333333333,7.333333333333333,22.333333333333332,3.3333333333333335,10.333333333333334,14.0,20.0,19.333333333333332,19.333333333333332,26.0,8.333333333333334,15.0,20.0,31.333333333333332,15.666666666666666,5.333333333333333,21.0,14.0,9.0,15.0,13.333333333333334,11.0,10.333333333333334,19.666666666666668,14.0,11.666666666666666,26.333333333333332,36.666666666666664,12.666666666666666,10.333333333333334,22.0,29.0,8.666666666666666,12.333333333333334,22.333333333333332,29.333333333333332,24.333333333333332,41.333333333333336,42.0,46.333333333333336,46.333333333333336,49.666666666666664,33.333333333333336,25.0,45.333333333333336,46.333333333333336,28.333333333333332,5.0,8.333333333333334,12.0,9.333333333333334,12.333333333333334,15.0,6.0,6.333333333333333,10.0,17.333333333333332,26.333333333333332,45.666666666666664,53.0,53.0,10.0,2.6666666666666665,3.6666666666666665,10.666666666666666,9.0,5.333333333333333,10.0,4.333333333333333,4.666666666666667,7.5,14.666666666666666,26.5,40.5,12.0,12.5,11.666666666666666,5.166666666666667,10.0,27.5,46.666666666666664,46.833333333333336,51.166666666666664,38.4,32.0,33.333333333333336,47.0,58.166666666666664,45.166666666666664,30.333333333333332,12.5,11.166666666666666,19.666666666666668,35.0,17.166666666666668,20.333333333333332,21.666666666666668,33.333333333333336,37.5,41.0,38.0,10.166666666666666,7.166666666666667,15.833333333333334,25.8,22.2,17.6,31.8,38.0,29.833333333333332,25.166666666666668,21.666666666666668,18.166666666666668,21.5,32.666666666666664,31.833333333333332,5.833333333333333,13.0,15.333333333333334,12.5,14.0,9.333333333333334,13.5,15.0,20.166666666666668,9.0,11.333333333333334,18.0,33.5,34.5,35.166666666666664,23.833333333333332,24.0,8.166666666666666,3.5,9.4,10.666666666666666,4.5,13.833333333333334,13.166666666666666,9.0,8.166666666666666,11.166666666666666,15.166666666666666,8.0,10.833333333333334,14.333333333333334,20.0,13.833333333333334,11.0,11.5,15.166666666666666,21.333333333333332,24.0,19.8,25.166666666666668,26.833333333333332,32.833333333333336,8.666666666666666,9.5,15.333333333333334,15.333333333333334,14.166666666666666,33.666666666666664,21.5,10.333333333333334,17.666666666666668,23.166666666666668,42.833333333333336,8.666666666666666,40.0,12.833333333333334,9.166666666666666,12.666666666666666,6.666666666666667,17.0,10.5,29.5,62.666666666666664,15.166666666666666,140.83333333333334,27.166666666666668,5.333333333333333,6.0,11.5,26.5,39.166666666666664,48.166666666666664,14.166666666666666,14.333333333333334,8.166666666666666,28.666666666666668,5.666666666666667,8.166666666666666,15.5,41.5,74.33333333333333,32.0,11.5,17.666666666666668,33.333333333333336,7.5,12.666666666666666,14.5,14.166666666666666,23.833333333333332,17.166666666666668,21.666666666666668,54.666666666666664,10.833333333333334,9.5,20.166666666666668,8.666666666666666,15.5,19.333333333333332,29.0,43.333333333333336,18.166666666666668,4.833333333333333,2.1666666666666665,6.0,10.666666666666666,19.833333333333332,23.833333333333332,25.8,12.8,17.6,19.333333333333332,27.166666666666668,29.333333333333332,33.666666666666664,25.333333333333332,88.66666666666667,17.666666666666668,14.5,20.5,28.333333333333332,121.33333333333333,139.0,69.5,9.666666666666666,16.5,32.0,43.833333333333336,28.0,20.166666666666668,16.2,24.6,31.666666666666668,32.0,29.166666666666668,20.0,16.0,35.6,23.4,20.8,20.333333333333332,22.0,25.6,34.333333333333336,28.0,30.166666666666668,39.666666666666664,27.6,21.5,21.0,16.5,37.4,24.4,37.5,31.333333333333332,29.8,34.2,23.0,21.4,29.2,31.0,52.2,32.833333333333336,27.166666666666668,18.833333333333332,17.666666666666668,27.166666666666668,14.4,25.5,30.166666666666668,24.833333333333332,11.166666666666666,10.5,18.0,27.0,27.5,20.833333333333332,17.333333333333332,9.666666666666666,6.666666666666667,17.5,17.5,24.5,35.5,25.166666666666668,9.5,10.833333333333334,18.333333333333332,23.5,33.833333333333336,22.666666666666668,18.333333333333332,19.833333333333332,24.333333333333332,34.166666666666664,34.666666666666664,38.0,37.5,31.666666666666668,31.833333333333332,27.666666666666668,29.666666666666668,46.4,45.6,62.833333333333336,57.666666666666664,59.166666666666664,46.666666666666664,59.166666666666664,24.0,9.166666666666666,11.666666666666666,9.5,16.0,17.333333333333332,17.833333333333332,21.5,15.833333333333334,15.0,16.5,18.166666666666668,18.666666666666668,31.666666666666668,29.333333333333332,24.0,15.333333333333334,14.0,11.0,12.833333333333334,20.833333333333332,22.333333333333332,27.0,25.333333333333332,26.0,30.0,19.666666666666668,28.166666666666668,31.833333333333332,37.666666666666664,34.2,27.8,22.6,17.8,30.0,38.333333333333336,37.666666666666664,37.166666666666664,37.166666666666664,66.83333333333333,2.8333333333333335,7.5,15.333333333333334,9.833333333333334,7.5,19.333333333333332,20.666666666666668,14.0,18.833333333333332,27.333333333333332,16.333333333333332,5.666666666666667,8.833333333333334,3.5,3.8333333333333335,19.5,10.0,2.5,6.166666666666667,12.333333333333334,17.666666666666668,14.833333333333334,10.666666666666666,16.0,19.333333333333332,25.333333333333332,19.666666666666668,18.166666666666668,26.666666666666668,41.833333333333336,55.833333333333336,31.333333333333332,18.666666666666668,20.5,21.0,10.333333333333334,12.0,7.333333333333333,18.666666666666668,39.5,18.0,24.333333333333332,20.5,9.666666666666666,17.5,26.333333333333332,19.833333333333332,16.166666666666668,13.166666666666666,5.0,3.3333333333333335,5.0,6.25,9.6,17.333333333333332,23.5,28.833333333333332,44.5,51.166666666666664,27.833333333333332,16.0,37.166666666666664,44.166666666666664,42.833333333333336,23.166666666666668,4.5,3.5,6.833333333333333,4.5,2.3333333333333335],\"type\":\"scatter\",\"xaxis\":\"x2\",\"yaxis\":\"y2\"},{\"hovertemplate\":\"%{y} ppm<br>\",\"line\":{\"color\":\"darkcyan\"},\"mode\":\"markers+lines\",\"name\":\"Ozone\",\"x\":[\"2021-01-01T00:00:00\",\"2021-01-02T00:00:00\",\"2021-01-03T00:00:00\",\"2021-01-04T00:00:00\",\"2021-01-05T00:00:00\",\"2021-01-06T00:00:00\",\"2021-01-07T00:00:00\",\"2021-01-08T00:00:00\",\"2021-01-09T00:00:00\",\"2021-01-10T00:00:00\",\"2021-01-11T00:00:00\",\"2021-01-12T00:00:00\",\"2021-01-13T00:00:00\",\"2021-01-14T00:00:00\",\"2021-01-15T00:00:00\",\"2021-01-16T00:00:00\",\"2021-01-17T00:00:00\",\"2021-01-18T00:00:00\",\"2021-01-19T00:00:00\",\"2021-01-20T00:00:00\",\"2021-01-21T00:00:00\",\"2021-01-22T00:00:00\",\"2021-01-23T00:00:00\",\"2021-01-24T00:00:00\",\"2021-01-25T00:00:00\",\"2021-01-26T00:00:00\",\"2021-01-27T00:00:00\",\"2021-01-28T00:00:00\",\"2021-01-29T00:00:00\",\"2021-01-30T00:00:00\",\"2021-01-31T00:00:00\",\"2021-02-01T00:00:00\",\"2021-02-02T00:00:00\",\"2021-02-03T00:00:00\",\"2021-02-04T00:00:00\",\"2021-02-05T00:00:00\",\"2021-02-06T00:00:00\",\"2021-02-07T00:00:00\",\"2021-02-08T00:00:00\",\"2021-02-09T00:00:00\",\"2021-02-10T00:00:00\",\"2021-02-11T00:00:00\",\"2021-02-12T00:00:00\",\"2021-02-13T00:00:00\",\"2021-02-14T00:00:00\",\"2021-02-15T00:00:00\",\"2021-02-16T00:00:00\",\"2021-02-17T00:00:00\",\"2021-02-18T00:00:00\",\"2021-02-19T00:00:00\",\"2021-02-20T00:00:00\",\"2021-02-21T00:00:00\",\"2021-02-22T00:00:00\",\"2021-02-23T00:00:00\",\"2021-02-24T00:00:00\",\"2021-02-25T00:00:00\",\"2021-02-26T00:00:00\",\"2021-02-27T00:00:00\",\"2021-02-28T00:00:00\",\"2021-03-01T00:00:00\",\"2021-03-02T00:00:00\",\"2021-03-03T00:00:00\",\"2021-03-04T00:00:00\",\"2021-03-05T00:00:00\",\"2021-03-06T00:00:00\",\"2021-03-07T00:00:00\",\"2021-03-08T00:00:00\",\"2021-03-09T00:00:00\",\"2021-03-10T00:00:00\",\"2021-03-11T00:00:00\",\"2021-03-12T00:00:00\",\"2021-03-13T00:00:00\",\"2021-03-14T00:00:00\",\"2021-03-15T00:00:00\",\"2021-03-16T00:00:00\",\"2021-03-17T00:00:00\",\"2021-03-18T00:00:00\",\"2021-03-19T00:00:00\",\"2021-03-20T00:00:00\",\"2021-03-21T00:00:00\",\"2021-03-22T00:00:00\",\"2021-03-23T00:00:00\",\"2021-03-24T00:00:00\",\"2021-03-25T00:00:00\",\"2021-03-26T00:00:00\",\"2021-03-27T00:00:00\",\"2021-03-28T00:00:00\",\"2021-03-29T00:00:00\",\"2021-03-30T00:00:00\",\"2021-03-31T00:00:00\",\"2021-04-01T00:00:00\",\"2021-04-02T00:00:00\",\"2021-04-03T00:00:00\",\"2021-04-04T00:00:00\",\"2021-04-05T00:00:00\",\"2021-04-06T00:00:00\",\"2021-04-07T00:00:00\",\"2021-04-08T00:00:00\",\"2021-04-09T00:00:00\",\"2021-04-10T00:00:00\",\"2021-04-11T00:00:00\",\"2021-04-12T00:00:00\",\"2021-04-13T00:00:00\",\"2021-04-14T00:00:00\",\"2021-04-15T00:00:00\",\"2021-04-16T00:00:00\",\"2021-04-17T00:00:00\",\"2021-04-18T00:00:00\",\"2021-04-19T00:00:00\",\"2021-04-20T00:00:00\",\"2021-04-21T00:00:00\",\"2021-04-22T00:00:00\",\"2021-04-23T00:00:00\",\"2021-04-24T00:00:00\",\"2021-04-25T00:00:00\",\"2021-04-26T00:00:00\",\"2021-04-27T00:00:00\",\"2021-04-28T00:00:00\",\"2021-04-29T00:00:00\",\"2021-04-30T00:00:00\",\"2021-05-01T00:00:00\",\"2021-05-02T00:00:00\",\"2021-05-03T00:00:00\",\"2021-05-04T00:00:00\",\"2021-05-05T00:00:00\",\"2021-05-06T00:00:00\",\"2021-05-07T00:00:00\",\"2021-05-08T00:00:00\",\"2021-05-09T00:00:00\",\"2021-05-10T00:00:00\",\"2021-05-11T00:00:00\",\"2021-05-12T00:00:00\",\"2021-05-13T00:00:00\",\"2021-05-14T00:00:00\",\"2021-05-15T00:00:00\",\"2021-05-16T00:00:00\",\"2021-05-17T00:00:00\",\"2021-05-18T00:00:00\",\"2021-05-19T00:00:00\",\"2021-05-20T00:00:00\",\"2021-05-21T00:00:00\",\"2021-05-22T00:00:00\",\"2021-05-23T00:00:00\",\"2021-05-24T00:00:00\",\"2021-05-25T00:00:00\",\"2021-05-26T00:00:00\",\"2021-05-27T00:00:00\",\"2021-05-28T00:00:00\",\"2021-05-29T00:00:00\",\"2021-05-30T00:00:00\",\"2021-05-31T00:00:00\",\"2021-06-01T00:00:00\",\"2021-06-02T00:00:00\",\"2021-06-03T00:00:00\",\"2021-06-04T00:00:00\",\"2021-06-05T00:00:00\",\"2021-06-06T00:00:00\",\"2021-06-07T00:00:00\",\"2021-06-08T00:00:00\",\"2021-06-09T00:00:00\",\"2021-06-10T00:00:00\",\"2021-06-11T00:00:00\",\"2021-06-12T00:00:00\",\"2021-06-13T00:00:00\",\"2021-06-14T00:00:00\",\"2021-06-15T00:00:00\",\"2021-06-16T00:00:00\",\"2021-06-17T00:00:00\",\"2021-06-18T00:00:00\",\"2021-06-19T00:00:00\",\"2021-06-20T00:00:00\",\"2021-06-21T00:00:00\",\"2021-06-22T00:00:00\",\"2021-06-23T00:00:00\",\"2021-06-24T00:00:00\",\"2021-06-25T00:00:00\",\"2021-06-26T00:00:00\",\"2021-06-27T00:00:00\",\"2021-06-28T00:00:00\",\"2021-06-29T00:00:00\",\"2021-06-30T00:00:00\",\"2021-07-01T00:00:00\",\"2021-07-02T00:00:00\",\"2021-07-03T00:00:00\",\"2021-07-04T00:00:00\",\"2021-07-05T00:00:00\",\"2021-07-06T00:00:00\",\"2021-07-07T00:00:00\",\"2021-07-08T00:00:00\",\"2021-07-09T00:00:00\",\"2021-07-10T00:00:00\",\"2021-07-11T00:00:00\",\"2021-07-12T00:00:00\",\"2021-07-13T00:00:00\",\"2021-07-14T00:00:00\",\"2021-07-15T00:00:00\",\"2021-07-16T00:00:00\",\"2021-07-17T00:00:00\",\"2021-07-18T00:00:00\",\"2021-07-19T00:00:00\",\"2021-07-20T00:00:00\",\"2021-07-21T00:00:00\",\"2021-07-22T00:00:00\",\"2021-07-23T00:00:00\",\"2021-07-24T00:00:00\",\"2021-07-25T00:00:00\",\"2021-07-26T00:00:00\",\"2021-07-27T00:00:00\",\"2021-07-28T00:00:00\",\"2021-07-29T00:00:00\",\"2021-07-30T00:00:00\",\"2021-07-31T00:00:00\",\"2021-08-01T00:00:00\",\"2021-08-02T00:00:00\",\"2021-08-03T00:00:00\",\"2021-08-04T00:00:00\",\"2021-08-05T00:00:00\",\"2021-08-06T00:00:00\",\"2021-08-07T00:00:00\",\"2021-08-08T00:00:00\",\"2021-08-09T00:00:00\",\"2021-08-10T00:00:00\",\"2021-08-11T00:00:00\",\"2021-08-12T00:00:00\",\"2021-08-13T00:00:00\",\"2021-08-14T00:00:00\",\"2021-08-15T00:00:00\",\"2021-08-16T00:00:00\",\"2021-08-17T00:00:00\",\"2021-08-18T00:00:00\",\"2021-08-19T00:00:00\",\"2021-08-20T00:00:00\",\"2021-08-21T00:00:00\",\"2021-08-22T00:00:00\",\"2021-08-23T00:00:00\",\"2021-08-24T00:00:00\",\"2021-08-25T00:00:00\",\"2021-08-26T00:00:00\",\"2021-08-27T00:00:00\",\"2021-08-28T00:00:00\",\"2021-08-29T00:00:00\",\"2021-08-30T00:00:00\",\"2021-08-31T00:00:00\",\"2021-09-01T00:00:00\",\"2021-09-02T00:00:00\",\"2021-09-03T00:00:00\",\"2021-09-04T00:00:00\",\"2021-09-05T00:00:00\",\"2021-09-06T00:00:00\",\"2021-09-07T00:00:00\",\"2021-09-08T00:00:00\",\"2021-09-09T00:00:00\",\"2021-09-10T00:00:00\",\"2021-09-11T00:00:00\",\"2021-09-12T00:00:00\",\"2021-09-13T00:00:00\",\"2021-09-14T00:00:00\",\"2021-09-15T00:00:00\",\"2021-09-16T00:00:00\",\"2021-09-17T00:00:00\",\"2021-09-18T00:00:00\",\"2021-09-19T00:00:00\",\"2021-09-20T00:00:00\",\"2021-09-21T00:00:00\",\"2021-09-22T00:00:00\",\"2021-09-23T00:00:00\",\"2021-09-24T00:00:00\",\"2021-09-25T00:00:00\",\"2021-09-26T00:00:00\",\"2021-09-27T00:00:00\",\"2021-09-28T00:00:00\",\"2021-09-29T00:00:00\",\"2021-09-30T00:00:00\",\"2021-10-01T00:00:00\",\"2021-10-02T00:00:00\",\"2021-10-03T00:00:00\",\"2021-10-04T00:00:00\",\"2021-10-05T00:00:00\",\"2021-10-06T00:00:00\",\"2021-10-07T00:00:00\",\"2021-10-08T00:00:00\",\"2021-10-09T00:00:00\",\"2021-10-10T00:00:00\",\"2021-10-11T00:00:00\",\"2021-10-12T00:00:00\",\"2021-10-13T00:00:00\",\"2021-10-14T00:00:00\",\"2021-10-15T00:00:00\",\"2021-10-16T00:00:00\",\"2021-10-17T00:00:00\",\"2021-10-18T00:00:00\",\"2021-10-19T00:00:00\",\"2021-10-20T00:00:00\",\"2021-10-21T00:00:00\",\"2021-10-22T00:00:00\",\"2021-10-23T00:00:00\",\"2021-10-24T00:00:00\",\"2021-10-25T00:00:00\",\"2021-10-26T00:00:00\",\"2021-10-27T00:00:00\",\"2021-10-28T00:00:00\",\"2021-10-29T00:00:00\",\"2021-10-30T00:00:00\",\"2021-10-31T00:00:00\",\"2021-11-01T00:00:00\",\"2021-11-02T00:00:00\",\"2021-11-03T00:00:00\",\"2021-11-04T00:00:00\",\"2021-11-05T00:00:00\",\"2021-11-06T00:00:00\",\"2021-11-07T00:00:00\",\"2021-11-08T00:00:00\",\"2021-11-09T00:00:00\",\"2021-11-10T00:00:00\",\"2021-11-11T00:00:00\",\"2021-11-12T00:00:00\",\"2021-11-13T00:00:00\",\"2021-11-14T00:00:00\",\"2021-11-15T00:00:00\",\"2021-11-16T00:00:00\",\"2021-11-17T00:00:00\",\"2021-11-18T00:00:00\",\"2021-11-19T00:00:00\",\"2021-11-20T00:00:00\",\"2021-11-21T00:00:00\",\"2021-11-22T00:00:00\",\"2021-11-23T00:00:00\",\"2021-11-24T00:00:00\",\"2021-11-25T00:00:00\",\"2021-11-26T00:00:00\",\"2021-11-27T00:00:00\",\"2021-11-28T00:00:00\",\"2021-11-29T00:00:00\",\"2021-11-30T00:00:00\",\"2021-12-01T00:00:00\",\"2021-12-02T00:00:00\",\"2021-12-03T00:00:00\",\"2021-12-04T00:00:00\",\"2021-12-05T00:00:00\",\"2021-12-06T00:00:00\",\"2021-12-07T00:00:00\",\"2021-12-08T00:00:00\",\"2021-12-09T00:00:00\",\"2021-12-10T00:00:00\",\"2021-12-11T00:00:00\",\"2021-12-12T00:00:00\",\"2021-12-13T00:00:00\",\"2021-12-14T00:00:00\",\"2021-12-15T00:00:00\",\"2021-12-16T00:00:00\",\"2021-12-17T00:00:00\",\"2021-12-18T00:00:00\",\"2021-12-19T00:00:00\",\"2021-12-20T00:00:00\",\"2021-12-21T00:00:00\",\"2021-12-22T00:00:00\",\"2021-12-23T00:00:00\",\"2021-12-24T00:00:00\",\"2021-12-25T00:00:00\",\"2021-12-26T00:00:00\",\"2021-12-27T00:00:00\",\"2021-12-28T00:00:00\",\"2021-12-29T00:00:00\",\"2021-12-30T00:00:00\",\"2021-12-31T00:00:00\",\"2022-01-01T00:00:00\",\"2022-01-02T00:00:00\",\"2022-01-03T00:00:00\",\"2022-01-04T00:00:00\",\"2022-01-05T00:00:00\",\"2022-01-06T00:00:00\",\"2022-01-07T00:00:00\",\"2022-01-08T00:00:00\",\"2022-01-09T00:00:00\",\"2022-01-10T00:00:00\",\"2022-01-11T00:00:00\",\"2022-01-12T00:00:00\",\"2022-01-13T00:00:00\",\"2022-01-14T00:00:00\",\"2022-01-15T00:00:00\",\"2022-01-16T00:00:00\",\"2022-01-17T00:00:00\",\"2022-01-18T00:00:00\",\"2022-01-19T00:00:00\",\"2022-01-20T00:00:00\",\"2022-01-21T00:00:00\",\"2022-01-22T00:00:00\",\"2022-01-23T00:00:00\",\"2022-01-24T00:00:00\",\"2022-01-25T00:00:00\",\"2022-01-26T00:00:00\",\"2022-01-27T00:00:00\",\"2022-01-28T00:00:00\",\"2022-01-29T00:00:00\",\"2022-01-30T00:00:00\",\"2022-01-31T00:00:00\",\"2022-02-01T00:00:00\",\"2022-02-02T00:00:00\",\"2022-02-03T00:00:00\",\"2022-02-04T00:00:00\",\"2022-02-05T00:00:00\",\"2022-02-06T00:00:00\",\"2022-02-07T00:00:00\",\"2022-02-08T00:00:00\",\"2022-02-09T00:00:00\",\"2022-02-10T00:00:00\",\"2022-02-11T00:00:00\",\"2022-02-12T00:00:00\",\"2022-02-13T00:00:00\",\"2022-02-14T00:00:00\",\"2022-02-15T00:00:00\",\"2022-02-16T00:00:00\",\"2022-02-17T00:00:00\",\"2022-02-18T00:00:00\",\"2022-02-19T00:00:00\",\"2022-02-20T00:00:00\",\"2022-02-21T00:00:00\",\"2022-02-22T00:00:00\",\"2022-02-23T00:00:00\",\"2022-02-24T00:00:00\",\"2022-02-25T00:00:00\",\"2022-02-26T00:00:00\",\"2022-02-27T00:00:00\",\"2022-02-28T00:00:00\",\"2022-03-01T00:00:00\",\"2022-03-02T00:00:00\",\"2022-03-03T00:00:00\",\"2022-03-04T00:00:00\",\"2022-03-05T00:00:00\",\"2022-03-06T00:00:00\",\"2022-03-07T00:00:00\",\"2022-03-08T00:00:00\",\"2022-03-09T00:00:00\",\"2022-03-10T00:00:00\",\"2022-03-11T00:00:00\",\"2022-03-12T00:00:00\",\"2022-03-13T00:00:00\",\"2022-03-14T00:00:00\",\"2022-03-15T00:00:00\",\"2022-03-16T00:00:00\",\"2022-03-17T00:00:00\",\"2022-03-18T00:00:00\",\"2022-03-19T00:00:00\",\"2022-03-20T00:00:00\",\"2022-03-21T00:00:00\",\"2022-03-22T00:00:00\",\"2022-03-23T00:00:00\",\"2022-03-24T00:00:00\",\"2022-03-25T00:00:00\",\"2022-03-26T00:00:00\",\"2022-03-27T00:00:00\",\"2022-03-28T00:00:00\",\"2022-03-29T00:00:00\",\"2022-03-30T00:00:00\",\"2022-03-31T00:00:00\",\"2022-04-01T00:00:00\",\"2022-04-02T00:00:00\",\"2022-04-03T00:00:00\",\"2022-04-04T00:00:00\",\"2022-04-05T00:00:00\",\"2022-04-06T00:00:00\",\"2022-04-07T00:00:00\",\"2022-04-08T00:00:00\",\"2022-04-09T00:00:00\",\"2022-04-10T00:00:00\",\"2022-04-11T00:00:00\",\"2022-04-12T00:00:00\",\"2022-04-13T00:00:00\",\"2022-04-14T00:00:00\",\"2022-04-15T00:00:00\",\"2022-04-16T00:00:00\",\"2022-04-17T00:00:00\",\"2022-04-18T00:00:00\",\"2022-04-19T00:00:00\",\"2022-04-20T00:00:00\",\"2022-04-21T00:00:00\",\"2022-04-22T00:00:00\",\"2022-04-23T00:00:00\",\"2022-04-24T00:00:00\",\"2022-04-25T00:00:00\",\"2022-04-26T00:00:00\",\"2022-04-27T00:00:00\",\"2022-04-28T00:00:00\",\"2022-04-29T00:00:00\",\"2022-04-30T00:00:00\",\"2022-05-01T00:00:00\",\"2022-05-02T00:00:00\",\"2022-05-03T00:00:00\",\"2022-05-04T00:00:00\",\"2022-05-05T00:00:00\",\"2022-05-06T00:00:00\",\"2022-05-07T00:00:00\",\"2022-05-08T00:00:00\",\"2022-05-09T00:00:00\",\"2022-05-10T00:00:00\",\"2022-05-11T00:00:00\",\"2022-05-12T00:00:00\",\"2022-05-13T00:00:00\",\"2022-05-14T00:00:00\",\"2022-05-15T00:00:00\",\"2022-05-16T00:00:00\",\"2022-05-17T00:00:00\",\"2022-05-18T00:00:00\",\"2022-05-19T00:00:00\",\"2022-05-20T00:00:00\",\"2022-05-21T00:00:00\",\"2022-05-22T00:00:00\",\"2022-05-23T00:00:00\",\"2022-05-24T00:00:00\",\"2022-05-25T00:00:00\",\"2022-05-26T00:00:00\",\"2022-05-27T00:00:00\",\"2022-05-28T00:00:00\",\"2022-05-29T00:00:00\",\"2022-05-30T00:00:00\",\"2022-05-31T00:00:00\",\"2022-06-01T00:00:00\",\"2022-06-02T00:00:00\",\"2022-06-03T00:00:00\",\"2022-06-04T00:00:00\",\"2022-06-05T00:00:00\",\"2022-06-06T00:00:00\",\"2022-06-07T00:00:00\",\"2022-06-08T00:00:00\",\"2022-06-09T00:00:00\",\"2022-06-10T00:00:00\",\"2022-06-11T00:00:00\",\"2022-06-12T00:00:00\",\"2022-06-13T00:00:00\",\"2022-06-14T00:00:00\",\"2022-06-15T00:00:00\",\"2022-06-16T00:00:00\",\"2022-06-17T00:00:00\",\"2022-06-18T00:00:00\",\"2022-06-19T00:00:00\",\"2022-06-20T00:00:00\",\"2022-06-21T00:00:00\",\"2022-06-22T00:00:00\",\"2022-06-23T00:00:00\",\"2022-06-24T00:00:00\",\"2022-06-25T00:00:00\",\"2022-06-26T00:00:00\",\"2022-06-27T00:00:00\",\"2022-06-28T00:00:00\",\"2022-06-29T00:00:00\",\"2022-06-30T00:00:00\",\"2022-07-01T00:00:00\",\"2022-07-02T00:00:00\",\"2022-07-03T00:00:00\",\"2022-07-04T00:00:00\",\"2022-07-05T00:00:00\",\"2022-07-06T00:00:00\",\"2022-07-07T00:00:00\",\"2022-07-08T00:00:00\",\"2022-07-09T00:00:00\",\"2022-07-10T00:00:00\",\"2022-07-11T00:00:00\",\"2022-07-12T00:00:00\",\"2022-07-13T00:00:00\",\"2022-07-14T00:00:00\",\"2022-07-15T00:00:00\",\"2022-07-16T00:00:00\",\"2022-07-17T00:00:00\",\"2022-07-18T00:00:00\",\"2022-07-19T00:00:00\",\"2022-07-20T00:00:00\",\"2022-07-21T00:00:00\",\"2022-07-22T00:00:00\",\"2022-07-23T00:00:00\",\"2022-07-24T00:00:00\",\"2022-07-25T00:00:00\",\"2022-07-26T00:00:00\",\"2022-07-27T00:00:00\",\"2022-07-28T00:00:00\",\"2022-07-29T00:00:00\",\"2022-07-30T00:00:00\",\"2022-07-31T00:00:00\",\"2022-08-01T00:00:00\",\"2022-08-02T00:00:00\",\"2022-08-03T00:00:00\",\"2022-08-04T00:00:00\",\"2022-08-05T00:00:00\",\"2022-08-06T00:00:00\",\"2022-08-07T00:00:00\",\"2022-08-08T00:00:00\",\"2022-08-09T00:00:00\",\"2022-08-10T00:00:00\",\"2022-08-11T00:00:00\",\"2022-08-12T00:00:00\",\"2022-08-13T00:00:00\",\"2022-08-14T00:00:00\",\"2022-08-15T00:00:00\",\"2022-08-16T00:00:00\",\"2022-08-17T00:00:00\",\"2022-08-18T00:00:00\",\"2022-08-19T00:00:00\",\"2022-08-20T00:00:00\",\"2022-08-21T00:00:00\",\"2022-08-22T00:00:00\",\"2022-08-23T00:00:00\",\"2022-08-24T00:00:00\",\"2022-08-25T00:00:00\",\"2022-08-26T00:00:00\",\"2022-08-27T00:00:00\",\"2022-08-28T00:00:00\",\"2022-08-29T00:00:00\",\"2022-08-30T00:00:00\",\"2022-08-31T00:00:00\",\"2022-09-01T00:00:00\",\"2022-09-02T00:00:00\",\"2022-09-03T00:00:00\",\"2022-09-04T00:00:00\",\"2022-09-05T00:00:00\",\"2022-09-06T00:00:00\",\"2022-09-07T00:00:00\",\"2022-09-08T00:00:00\",\"2022-09-09T00:00:00\",\"2022-09-10T00:00:00\",\"2022-09-11T00:00:00\",\"2022-09-12T00:00:00\",\"2022-09-13T00:00:00\",\"2022-09-14T00:00:00\",\"2022-09-15T00:00:00\",\"2022-09-16T00:00:00\",\"2022-09-17T00:00:00\",\"2022-09-18T00:00:00\",\"2022-09-19T00:00:00\",\"2022-09-20T00:00:00\",\"2022-09-21T00:00:00\",\"2022-09-22T00:00:00\",\"2022-09-23T00:00:00\",\"2022-09-24T00:00:00\",\"2022-09-25T00:00:00\",\"2022-09-26T00:00:00\",\"2022-09-27T00:00:00\",\"2022-09-28T00:00:00\",\"2022-09-29T00:00:00\",\"2022-09-30T00:00:00\",\"2022-10-01T00:00:00\",\"2022-10-02T00:00:00\",\"2022-10-03T00:00:00\",\"2022-10-04T00:00:00\",\"2022-10-05T00:00:00\",\"2022-10-06T00:00:00\",\"2022-10-07T00:00:00\",\"2022-10-08T00:00:00\",\"2022-10-09T00:00:00\",\"2022-10-10T00:00:00\",\"2022-10-11T00:00:00\",\"2022-10-12T00:00:00\",\"2022-10-13T00:00:00\",\"2022-10-14T00:00:00\",\"2022-10-15T00:00:00\",\"2022-10-16T00:00:00\",\"2022-10-17T00:00:00\",\"2022-10-18T00:00:00\",\"2022-10-19T00:00:00\",\"2022-10-20T00:00:00\",\"2022-10-21T00:00:00\",\"2022-10-22T00:00:00\",\"2022-10-23T00:00:00\",\"2022-10-24T00:00:00\",\"2022-10-25T00:00:00\",\"2022-10-26T00:00:00\",\"2022-10-27T00:00:00\",\"2022-10-28T00:00:00\",\"2022-10-29T00:00:00\",\"2022-10-30T00:00:00\",\"2022-10-31T00:00:00\",\"2022-11-01T00:00:00\",\"2022-11-02T00:00:00\",\"2022-11-03T00:00:00\",\"2022-11-04T00:00:00\",\"2022-11-05T00:00:00\",\"2022-11-06T00:00:00\",\"2022-11-07T00:00:00\",\"2022-11-08T00:00:00\",\"2022-11-09T00:00:00\",\"2022-11-10T00:00:00\",\"2022-11-11T00:00:00\",\"2022-11-12T00:00:00\",\"2022-11-13T00:00:00\",\"2022-11-14T00:00:00\",\"2022-11-15T00:00:00\",\"2022-11-16T00:00:00\",\"2022-11-17T00:00:00\",\"2022-11-18T00:00:00\",\"2022-11-19T00:00:00\",\"2022-11-20T00:00:00\",\"2022-11-21T00:00:00\",\"2022-11-22T00:00:00\",\"2022-11-23T00:00:00\",\"2022-11-24T00:00:00\",\"2022-11-25T00:00:00\",\"2022-11-26T00:00:00\",\"2022-11-27T00:00:00\",\"2022-11-28T00:00:00\",\"2022-11-29T00:00:00\",\"2022-11-30T00:00:00\",\"2022-12-01T00:00:00\",\"2022-12-02T00:00:00\",\"2022-12-03T00:00:00\",\"2022-12-04T00:00:00\",\"2022-12-05T00:00:00\",\"2022-12-06T00:00:00\",\"2022-12-07T00:00:00\",\"2022-12-08T00:00:00\",\"2022-12-09T00:00:00\",\"2022-12-10T00:00:00\",\"2022-12-11T00:00:00\",\"2022-12-12T00:00:00\",\"2022-12-13T00:00:00\",\"2022-12-14T00:00:00\",\"2022-12-15T00:00:00\",\"2022-12-16T00:00:00\",\"2022-12-17T00:00:00\",\"2022-12-18T00:00:00\",\"2022-12-19T00:00:00\",\"2022-12-20T00:00:00\",\"2022-12-21T00:00:00\",\"2022-12-22T00:00:00\",\"2022-12-23T00:00:00\",\"2022-12-24T00:00:00\",\"2022-12-25T00:00:00\",\"2022-12-26T00:00:00\",\"2022-12-27T00:00:00\",\"2022-12-28T00:00:00\",\"2022-12-29T00:00:00\",\"2022-12-30T00:00:00\",\"2022-12-31T00:00:00\"],\"y\":[0.02866666666666667,0.028,0.023000000000000003,0.024999999999999998,0.03366666666666667,0.026166666666666668,0.025714285714285714,0.022857142857142857,0.031142857142857142,0.024,0.018571428571428572,0.017285714285714286,0.022714285714285715,0.03242857142857143,0.027,0.029142857142857144,0.027285714285714285,0.02957142857142857,0.032999999999999995,0.02457142857142857,0.017285714285714286,0.029285714285714286,0.03416666666666667,0.026166666666666668,0.026833333333333334,0.03414285714285714,0.03428571428571429,0.03357142857142857,0.034833333333333334,0.03742857142857143,0.03557142857142857,0.020714285714285716,0.02557142857142857,0.03557142857142857,0.03342857142857143,0.02885714285714286,0.036571428571428574,0.03983333333333333,0.036166666666666666,0.03333333333333333,0.033,0.033,0.029857142857142856,0.031714285714285716,0.03428571428571429,0.03471428571428572,0.03442857142857143,0.03742857142857143,0.038,0.03342857142857143,0.039142857142857146,0.037571428571428575,0.037571428571428575,0.04114285714285714,0.04057142857142857,0.03842857142857143,0.04014285714285715,0.03728571428571429,0.03728571428571429,0.03457142857142857,0.030375,0.032,0.03542857142857143,0.041249999999999995,0.041,0.041,0.046875,0.03925,0.0395,0.034625,0.041,0.033125,0.03875,0.041375,0.041,0.038375,0.041375,0.043,0.036375,0.040625,0.040125,0.03885714285714286,0.042749999999999996,0.037571428571428575,0.03628571428571429,0.04185714285714286,0.04342857142857143,0.0495,0.04425,0.04825,0.051125000000000004,0.051125,0.052375,0.048125,0.043625,0.03975,0.048,0.044,0.052875,0.0475,0.063,0.055125,0.0415,0.038875,0.036625,0.038,0.048875,0.049625,0.04285714285714286,0.047875,0.044875,0.05475,0.05125,0.04871428571428571,0.04442857142857143,0.040125,0.043875,0.0465,0.051,0.06025,0.045375,0.045,0.043375,0.047375,0.050749999999999997,0.05575,0.050374999999999996,0.047875,0.0465,0.046,0.047625,0.0555,0.056375,0.05475,0.057749999999999996,0.0525,0.049125,0.050624999999999996,0.052875,0.047875,0.053125,0.060375,0.045875,0.049625,0.04775,0.047375,0.058875,0.05375,0.0605,0.05425,0.0565,0.057874999999999996,0.062375,0.068,0.067,0.05725,0.06425,0.05657142857142857,0.0565,0.049624999999999996,0.051,0.063,0.07375,0.057125,0.04585714285714286,0.051125,0.06475,0.07075,0.06875,0.059875,0.047375,0.07037500000000001,0.062625,0.059625,0.0475,0.053125,0.057625,0.05575,0.048875,0.058125,0.05325,0.062125,0.065625,0.0645,0.0655,0.05925,0.06175,0.066,0.067625,0.064125,0.07825,0.082,0.088625,0.059625,0.06425,0.0685,0.072,0.072,0.07625,0.061375,0.068625,0.06975,0.0665,0.067875,0.079125,0.07125,0.080375,0.05975,0.06385714285714286,0.068625,0.07625,0.0715,0.06825,0.051250000000000004,0.06575,0.081375,0.0635,0.054125,0.078625,0.080625,0.05375,0.059375,0.0535,0.057571428571428565,0.062875,0.062375,0.06725,0.07775,0.054,0.04857142857142858,0.0545,0.06575,0.0535,0.05975,0.059375,0.06157142857142857,0.051,0.06671428571428571,0.06471428571428571,0.058,0.07575,0.061375,0.05557142857142857,0.053,0.054875,0.05825,0.07075,0.07025,0.066375,0.0695,0.08225,0.067625,0.05125,0.04575,0.05675,0.05425,0.06175,0.06925,0.0555,0.056375,0.045625,0.043,0.040375,0.05225,0.0525,0.051625,0.05075,0.058625000000000003,0.057,0.05157142857142857,0.03957142857142858,0.04114285714285715,0.038875,0.043125,0.046625,0.05,0.039,0.035125,0.032125,0.035,0.032125,0.0325,0.037125,0.036625,0.024714285714285713,0.03414285714285715,0.031375,0.03625,0.038,0.0435,0.039125,0.0275,0.032875,0.036125000000000004,0.0395,0.035625000000000004,0.034125,0.039875,0.031,0.032125,0.027875,0.028625,0.0235,0.029625,0.023,0.030250000000000003,0.025625,0.02825,0.0295,0.036875,0.03475,0.028125,0.031375,0.03625,0.0235,0.025750000000000002,0.026625,0.026125,0.023125,0.03325,0.034,0.022375,0.01525,0.026875,0.026875,0.019142857142857145,0.028749999999999998,0.03275,0.02875,0.020625,0.018,0.02025,0.01725,0.01375,0.016625,0.016285714285714285,0.01525,0.01825,0.029375000000000002,0.00825,0.02175,0.027571428571428573,0.03175,0.032,0.0305,0.035875000000000004,0.034428571428571426,0.040874999999999995,0.03457142857142857,0.038,0.03325,0.029875000000000002,0.0235,0.019625,0.017375,0.020375,0.037125,0.039,0.041624999999999995,0.0395,0.036625,0.03675,0.036125,0.0355,null,0.033375,0.031875,0.034625,0.029,0.022625,0.02475,0.0345,0.035500000000000004,0.029125,0.021125,0.01475,0.017499999999999998,0.010875,0.0285,0.027875,0.0245,0.017125,0.017625,0.017375,0.021500000000000002,0.0305,0.030375,0.028125,0.021249999999999998,0.03425,0.031375,0.0345,0.024625,0.02475,0.025375,0.03175,0.03875,0.037125,0.035375000000000004,0.030125,0.033625,0.036375,0.031,0.027625,0.03457142857142857,0.03325,0.034,0.039,0.036375,0.036875,0.037125,0.034625,0.034625,0.0355,0.0385,0.038125,0.03825,0.037375,0.034,0.038375,0.039875,0.038375,0.038375,0.034,0.037,0.036375000000000005,0.040125,0.045375,0.0395,0.04125,0.041625,0.037875,0.03925,0.04325,0.04175,0.044,0.04175,0.041874999999999996,0.04025,0.041125,0.04375,0.04375,0.047125,0.039375,0.043,0.04328571428571428,0.046,0.038875,0.040625,0.042249999999999996,0.045875,0.040375,0.037125,0.0435,0.037375,0.04485714285714286,0.042374999999999996,0.05025,0.040875,0.043375,0.0455,0.049125,0.043375,0.048875,0.0465,0.039125,0.0385,0.043375,0.040375,0.03925,0.0345,0.044125,0.0485,0.044,0.052,0.051000000000000004,0.040625,0.042749999999999996,0.045125,0.0515,0.05225,0.049625,0.04875,0.0495,0.052125,0.042749999999999996,0.049125,0.04375,0.040375,0.045375,0.044875,0.05025,0.046375,0.04425,0.04825,0.0525,0.046125,0.042874999999999996,0.0495,0.052125000000000005,0.047,0.044571428571428574,0.053,0.04525,0.040375,0.05025,0.051000000000000004,0.047375,0.04775,0.047625,0.04214285714285714,0.05685714285714286,0.0435,0.042,0.0325,0.03725,0.056,0.063125,0.060375,0.048625,0.038,0.052,0.058875,0.067625,0.062,0.060625,0.045375,0.053875,0.04675,0.049375,0.054875,0.052625,0.0525,0.0455,0.054875,0.04475,0.056875,0.064125,0.051625000000000004,0.057,0.0555,0.056,0.057999999999999996,0.04985714285714286,0.05128571428571428,0.064,0.047125,0.043125,0.0435,0.0505,0.045875,0.048,0.0525,0.05228571428571428,0.05085714285714286,0.05742857142857143,0.05928571428571428,0.06557142857142857,0.05642857142857143,0.055285714285714285,0.05485714285714286,0.06757142857142857,0.05714285714285715,0.06433333333333334,0.05557142857142857,0.072,0.07414285714285715,0.062142857142857146,0.07057142857142858,0.05542857142857143,0.062285714285714285,0.06085714285714285,0.06525,0.064,0.059,0.06025,0.061875,0.056125,0.05942857142857143,0.064875,0.07425,0.056125,0.046875,0.057875,0.064375,0.077375,0.059,0.0545,0.057,0.054375,0.057,0.059000000000000004,0.05785714285714285,0.065125,0.065625,0.046625,0.0485,0.05925,0.059375,0.06225,0.0525,0.061375,0.05875,0.053875,0.05175,0.06425,0.0655,0.069375,0.061375,0.06328571428571429,0.073375,0.06325,0.064875,0.060875,0.066375,0.054,0.06575,0.067375,0.07675,0.067375,0.040625,0.033,0.0445,0.052875,0.053875,0.043625,0.045625,0.04075,0.03425,0.04375,0.047875,0.0535,0.05475,0.05725,0.051125,0.04071428571428571,0.042749999999999996,0.041375,0.043125,0.04325,0.04475,0.0455,0.049375,0.0475,0.049,0.0545,0.05475,0.046625,0.038125,0.0405,0.040625,0.04325,0.043625,0.04125,0.040625,0.04125,0.04175,0.042625,0.042125,0.041624999999999995,0.032375,0.03328571428571429,0.033125,0.034125,0.034875,0.032625,0.034,0.0405,0.036875,0.04325,0.030625,0.033375,0.031875,0.0325,0.037625,0.03275,0.031375,0.037625,0.035,0.030625,0.026625,0.034375,0.034125,0.032625,0.030375,0.028,0.03025,0.02925,0.024,0.020375,0.0165,0.02675,0.03125,0.026125,0.0225,0.035625,0.032,0.0335,0.035500000000000004,0.039125,0.033125,0.0205,0.023875,0.025375,0.023625,0.021374999999999998,0.02375,0.028625,0.035625000000000004,0.038,0.031875,0.0285,0.027875,0.02775,0.024625,0.026625,0.02275,0.01725,0.011375,0.035750000000000004,0.032625,0.013875,0.01325,0.01025,0.01975,0.034375,0.029375000000000002,0.03325,0.03325,0.03475],\"type\":\"scatter\",\"xaxis\":\"x3\",\"yaxis\":\"y3\"}],                        {\"template\":{\"data\":{\"bar\":[{\"error_x\":{\"color\":\"#2a3f5f\"},\"error_y\":{\"color\":\"#2a3f5f\"},\"marker\":{\"line\":{\"color\":\"#E5ECF6\",\"width\":0.5},\"pattern\":{\"fillmode\":\"overlay\",\"size\":10,\"solidity\":0.2}},\"type\":\"bar\"}],\"barpolar\":[{\"marker\":{\"line\":{\"color\":\"#E5ECF6\",\"width\":0.5},\"pattern\":{\"fillmode\":\"overlay\",\"size\":10,\"solidity\":0.2}},\"type\":\"barpolar\"}],\"carpet\":[{\"aaxis\":{\"endlinecolor\":\"#2a3f5f\",\"gridcolor\":\"white\",\"linecolor\":\"white\",\"minorgridcolor\":\"white\",\"startlinecolor\":\"#2a3f5f\"},\"baxis\":{\"endlinecolor\":\"#2a3f5f\",\"gridcolor\":\"white\",\"linecolor\":\"white\",\"minorgridcolor\":\"white\",\"startlinecolor\":\"#2a3f5f\"},\"type\":\"carpet\"}],\"choropleth\":[{\"colorbar\":{\"outlinewidth\":0,\"ticks\":\"\"},\"type\":\"choropleth\"}],\"contour\":[{\"colorbar\":{\"outlinewidth\":0,\"ticks\":\"\"},\"colorscale\":[[0.0,\"#0d0887\"],[0.1111111111111111,\"#46039f\"],[0.2222222222222222,\"#7201a8\"],[0.3333333333333333,\"#9c179e\"],[0.4444444444444444,\"#bd3786\"],[0.5555555555555556,\"#d8576b\"],[0.6666666666666666,\"#ed7953\"],[0.7777777777777778,\"#fb9f3a\"],[0.8888888888888888,\"#fdca26\"],[1.0,\"#f0f921\"]],\"type\":\"contour\"}],\"contourcarpet\":[{\"colorbar\":{\"outlinewidth\":0,\"ticks\":\"\"},\"type\":\"contourcarpet\"}],\"heatmap\":[{\"colorbar\":{\"outlinewidth\":0,\"ticks\":\"\"},\"colorscale\":[[0.0,\"#0d0887\"],[0.1111111111111111,\"#46039f\"],[0.2222222222222222,\"#7201a8\"],[0.3333333333333333,\"#9c179e\"],[0.4444444444444444,\"#bd3786\"],[0.5555555555555556,\"#d8576b\"],[0.6666666666666666,\"#ed7953\"],[0.7777777777777778,\"#fb9f3a\"],[0.8888888888888888,\"#fdca26\"],[1.0,\"#f0f921\"]],\"type\":\"heatmap\"}],\"heatmapgl\":[{\"colorbar\":{\"outlinewidth\":0,\"ticks\":\"\"},\"colorscale\":[[0.0,\"#0d0887\"],[0.1111111111111111,\"#46039f\"],[0.2222222222222222,\"#7201a8\"],[0.3333333333333333,\"#9c179e\"],[0.4444444444444444,\"#bd3786\"],[0.5555555555555556,\"#d8576b\"],[0.6666666666666666,\"#ed7953\"],[0.7777777777777778,\"#fb9f3a\"],[0.8888888888888888,\"#fdca26\"],[1.0,\"#f0f921\"]],\"type\":\"heatmapgl\"}],\"histogram\":[{\"marker\":{\"pattern\":{\"fillmode\":\"overlay\",\"size\":10,\"solidity\":0.2}},\"type\":\"histogram\"}],\"histogram2d\":[{\"colorbar\":{\"outlinewidth\":0,\"ticks\":\"\"},\"colorscale\":[[0.0,\"#0d0887\"],[0.1111111111111111,\"#46039f\"],[0.2222222222222222,\"#7201a8\"],[0.3333333333333333,\"#9c179e\"],[0.4444444444444444,\"#bd3786\"],[0.5555555555555556,\"#d8576b\"],[0.6666666666666666,\"#ed7953\"],[0.7777777777777778,\"#fb9f3a\"],[0.8888888888888888,\"#fdca26\"],[1.0,\"#f0f921\"]],\"type\":\"histogram2d\"}],\"histogram2dcontour\":[{\"colorbar\":{\"outlinewidth\":0,\"ticks\":\"\"},\"colorscale\":[[0.0,\"#0d0887\"],[0.1111111111111111,\"#46039f\"],[0.2222222222222222,\"#7201a8\"],[0.3333333333333333,\"#9c179e\"],[0.4444444444444444,\"#bd3786\"],[0.5555555555555556,\"#d8576b\"],[0.6666666666666666,\"#ed7953\"],[0.7777777777777778,\"#fb9f3a\"],[0.8888888888888888,\"#fdca26\"],[1.0,\"#f0f921\"]],\"type\":\"histogram2dcontour\"}],\"mesh3d\":[{\"colorbar\":{\"outlinewidth\":0,\"ticks\":\"\"},\"type\":\"mesh3d\"}],\"parcoords\":[{\"line\":{\"colorbar\":{\"outlinewidth\":0,\"ticks\":\"\"}},\"type\":\"parcoords\"}],\"pie\":[{\"automargin\":true,\"type\":\"pie\"}],\"scatter\":[{\"marker\":{\"colorbar\":{\"outlinewidth\":0,\"ticks\":\"\"}},\"type\":\"scatter\"}],\"scatter3d\":[{\"line\":{\"colorbar\":{\"outlinewidth\":0,\"ticks\":\"\"}},\"marker\":{\"colorbar\":{\"outlinewidth\":0,\"ticks\":\"\"}},\"type\":\"scatter3d\"}],\"scattercarpet\":[{\"marker\":{\"colorbar\":{\"outlinewidth\":0,\"ticks\":\"\"}},\"type\":\"scattercarpet\"}],\"scattergeo\":[{\"marker\":{\"colorbar\":{\"outlinewidth\":0,\"ticks\":\"\"}},\"type\":\"scattergeo\"}],\"scattergl\":[{\"marker\":{\"colorbar\":{\"outlinewidth\":0,\"ticks\":\"\"}},\"type\":\"scattergl\"}],\"scattermapbox\":[{\"marker\":{\"colorbar\":{\"outlinewidth\":0,\"ticks\":\"\"}},\"type\":\"scattermapbox\"}],\"scatterpolar\":[{\"marker\":{\"colorbar\":{\"outlinewidth\":0,\"ticks\":\"\"}},\"type\":\"scatterpolar\"}],\"scatterpolargl\":[{\"marker\":{\"colorbar\":{\"outlinewidth\":0,\"ticks\":\"\"}},\"type\":\"scatterpolargl\"}],\"scatterternary\":[{\"marker\":{\"colorbar\":{\"outlinewidth\":0,\"ticks\":\"\"}},\"type\":\"scatterternary\"}],\"surface\":[{\"colorbar\":{\"outlinewidth\":0,\"ticks\":\"\"},\"colorscale\":[[0.0,\"#0d0887\"],[0.1111111111111111,\"#46039f\"],[0.2222222222222222,\"#7201a8\"],[0.3333333333333333,\"#9c179e\"],[0.4444444444444444,\"#bd3786\"],[0.5555555555555556,\"#d8576b\"],[0.6666666666666666,\"#ed7953\"],[0.7777777777777778,\"#fb9f3a\"],[0.8888888888888888,\"#fdca26\"],[1.0,\"#f0f921\"]],\"type\":\"surface\"}],\"table\":[{\"cells\":{\"fill\":{\"color\":\"#EBF0F8\"},\"line\":{\"color\":\"white\"}},\"header\":{\"fill\":{\"color\":\"#C8D4E3\"},\"line\":{\"color\":\"white\"}},\"type\":\"table\"}]},\"layout\":{\"annotationdefaults\":{\"arrowcolor\":\"#2a3f5f\",\"arrowhead\":0,\"arrowwidth\":1},\"autotypenumbers\":\"strict\",\"coloraxis\":{\"colorbar\":{\"outlinewidth\":0,\"ticks\":\"\"}},\"colorscale\":{\"diverging\":[[0,\"#8e0152\"],[0.1,\"#c51b7d\"],[0.2,\"#de77ae\"],[0.3,\"#f1b6da\"],[0.4,\"#fde0ef\"],[0.5,\"#f7f7f7\"],[0.6,\"#e6f5d0\"],[0.7,\"#b8e186\"],[0.8,\"#7fbc41\"],[0.9,\"#4d9221\"],[1,\"#276419\"]],\"sequential\":[[0.0,\"#0d0887\"],[0.1111111111111111,\"#46039f\"],[0.2222222222222222,\"#7201a8\"],[0.3333333333333333,\"#9c179e\"],[0.4444444444444444,\"#bd3786\"],[0.5555555555555556,\"#d8576b\"],[0.6666666666666666,\"#ed7953\"],[0.7777777777777778,\"#fb9f3a\"],[0.8888888888888888,\"#fdca26\"],[1.0,\"#f0f921\"]],\"sequentialminus\":[[0.0,\"#0d0887\"],[0.1111111111111111,\"#46039f\"],[0.2222222222222222,\"#7201a8\"],[0.3333333333333333,\"#9c179e\"],[0.4444444444444444,\"#bd3786\"],[0.5555555555555556,\"#d8576b\"],[0.6666666666666666,\"#ed7953\"],[0.7777777777777778,\"#fb9f3a\"],[0.8888888888888888,\"#fdca26\"],[1.0,\"#f0f921\"]]},\"colorway\":[\"#636efa\",\"#EF553B\",\"#00cc96\",\"#ab63fa\",\"#FFA15A\",\"#19d3f3\",\"#FF6692\",\"#B6E880\",\"#FF97FF\",\"#FECB52\"],\"font\":{\"color\":\"#2a3f5f\"},\"geo\":{\"bgcolor\":\"white\",\"lakecolor\":\"white\",\"landcolor\":\"#E5ECF6\",\"showlakes\":true,\"showland\":true,\"subunitcolor\":\"white\"},\"hoverlabel\":{\"align\":\"left\"},\"hovermode\":\"closest\",\"mapbox\":{\"style\":\"light\"},\"paper_bgcolor\":\"white\",\"plot_bgcolor\":\"#E5ECF6\",\"polar\":{\"angularaxis\":{\"gridcolor\":\"white\",\"linecolor\":\"white\",\"ticks\":\"\"},\"bgcolor\":\"#E5ECF6\",\"radialaxis\":{\"gridcolor\":\"white\",\"linecolor\":\"white\",\"ticks\":\"\"}},\"scene\":{\"xaxis\":{\"backgroundcolor\":\"#E5ECF6\",\"gridcolor\":\"white\",\"gridwidth\":2,\"linecolor\":\"white\",\"showbackground\":true,\"ticks\":\"\",\"zerolinecolor\":\"white\"},\"yaxis\":{\"backgroundcolor\":\"#E5ECF6\",\"gridcolor\":\"white\",\"gridwidth\":2,\"linecolor\":\"white\",\"showbackground\":true,\"ticks\":\"\",\"zerolinecolor\":\"white\"},\"zaxis\":{\"backgroundcolor\":\"#E5ECF6\",\"gridcolor\":\"white\",\"gridwidth\":2,\"linecolor\":\"white\",\"showbackground\":true,\"ticks\":\"\",\"zerolinecolor\":\"white\"}},\"shapedefaults\":{\"line\":{\"color\":\"#2a3f5f\"}},\"ternary\":{\"aaxis\":{\"gridcolor\":\"white\",\"linecolor\":\"white\",\"ticks\":\"\"},\"baxis\":{\"gridcolor\":\"white\",\"linecolor\":\"white\",\"ticks\":\"\"},\"bgcolor\":\"#E5ECF6\",\"caxis\":{\"gridcolor\":\"white\",\"linecolor\":\"white\",\"ticks\":\"\"}},\"title\":{\"x\":0.05},\"xaxis\":{\"automargin\":true,\"gridcolor\":\"white\",\"linecolor\":\"white\",\"ticks\":\"\",\"title\":{\"standoff\":15},\"zerolinecolor\":\"white\",\"zerolinewidth\":2},\"yaxis\":{\"automargin\":true,\"gridcolor\":\"white\",\"linecolor\":\"white\",\"ticks\":\"\",\"title\":{\"standoff\":15},\"zerolinecolor\":\"white\",\"zerolinewidth\":2}}},\"xaxis\":{\"anchor\":\"y\",\"domain\":[0.0,1.0],\"matches\":\"x3\",\"showticklabels\":false,\"title\":{}},\"yaxis\":{\"anchor\":\"x\",\"domain\":[0.68,1.0],\"title\":{}},\"xaxis2\":{\"anchor\":\"y2\",\"domain\":[0.0,1.0],\"matches\":\"x3\",\"showticklabels\":false,\"title\":{}},\"yaxis2\":{\"anchor\":\"x2\",\"domain\":[0.34,0.66],\"title\":{}},\"xaxis3\":{\"anchor\":\"y3\",\"domain\":[0.0,1.0],\"title\":{}},\"yaxis3\":{\"anchor\":\"x3\",\"domain\":[0.0,0.32],\"title\":{}},\"shapes\":[{\"line\":{\"dash\":\"dot\"},\"type\":\"line\",\"x0\":0,\"x1\":1,\"xref\":\"x domain\",\"y0\":12,\"y1\":12,\"yref\":\"y\"},{\"line\":{\"dash\":\"dot\"},\"type\":\"line\",\"x0\":0,\"x1\":1,\"xref\":\"x2 domain\",\"y0\":150,\"y1\":150,\"yref\":\"y2\"},{\"line\":{\"dash\":\"dot\"},\"type\":\"line\",\"x0\":0,\"x1\":1,\"xref\":\"x3 domain\",\"y0\":0.07,\"y1\":0.07,\"yref\":\"y3\"}],\"showlegend\":true,\"title\":{\"text\":\"Average Air Pollution in Salt Lake County\"}},                        {\"responsive\": true}                    ).then(function(){\n",
              "                            \n",
              "var gd = document.getElementById('46a94d23-82c9-4455-a99b-db7f52ac72f2');\n",
              "var x = new MutationObserver(function (mutations, observer) {{\n",
              "        var display = window.getComputedStyle(gd).display;\n",
              "        if (!display || display === 'none') {{\n",
              "            console.log([gd, 'removed!']);\n",
              "            Plotly.purge(gd);\n",
              "            observer.disconnect();\n",
              "        }}\n",
              "}});\n",
              "\n",
              "// Listen for the removal of the full notebook cells\n",
              "var notebookContainer = gd.closest('#notebook-container');\n",
              "if (notebookContainer) {{\n",
              "    x.observe(notebookContainer, {childList: true});\n",
              "}}\n",
              "\n",
              "// Listen for the clearing of the current output cell\n",
              "var outputEl = gd.closest('.output');\n",
              "if (outputEl) {{\n",
              "    x.observe(outputEl, {childList: true});\n",
              "}}\n",
              "\n",
              "                        })                };                            </script>        </div>\n",
              "</body>\n",
              "</html>"
            ]
          },
          "metadata": {}
        }
      ]
    },
    {
      "cell_type": "code",
      "source": [
        "df_plot[df_plot[\"Daily Mean PM2.5 Concentration\"] >= 12][\"Daily Mean PM2.5 Concentration\"].count()/730 "
      ],
      "metadata": {
        "colab": {
          "base_uri": "https://localhost:8080/"
        },
        "id": "Fgs_TJZB6QVb",
        "outputId": "e71ba332-b0de-423a-ddee-8221cea26dde"
      },
      "execution_count": 104,
      "outputs": [
        {
          "output_type": "execute_result",
          "data": {
            "text/plain": [
              "0.1726027397260274"
            ]
          },
          "metadata": {},
          "execution_count": 104
        }
      ]
    },
    {
      "cell_type": "code",
      "source": [
        "df.describe().T"
      ],
      "metadata": {
        "colab": {
          "base_uri": "https://localhost:8080/",
          "height": 488
        },
        "id": "7KiF5lBJ8G1m",
        "outputId": "3ea03d32-f444-4b49-a287-b88a32c9603e"
      },
      "execution_count": 105,
      "outputs": [
        {
          "output_type": "execute_result",
          "data": {
            "text/plain": [
              "                                        count          mean           std  \\\n",
              "Site ID                               19620.0  4.903530e+08    445.818588   \n",
              "POC                                   19620.0  1.791794e+00      1.180194   \n",
              "Daily Mean PM2.5 Concentration        10716.0  8.606794e+00      7.603222   \n",
              "DAILY_AQI_VALUE                       19620.0  3.463456e+01     23.376788   \n",
              "DAILY_OBS_COUNT                       19620.0  5.699439e+00      7.384894   \n",
              "PERCENT_COMPLETE                      19620.0  9.993400e+01      1.210702   \n",
              "AQS_PARAMETER_CODE                    19620.0  7.422491e+04  19352.144314   \n",
              "CBSA_CODE                             19620.0  4.162000e+04      0.000000   \n",
              "STATE_CODE                            19620.0  4.900000e+01      0.000000   \n",
              "COUNTY_CODE                           19620.0  3.500000e+01      0.000000   \n",
              "SITE_LATITUDE                         19620.0  4.069267e+01      0.104574   \n",
              "SITE_LONGITUDE                        19620.0 -1.119475e+02      0.066948   \n",
              "Daily Mean PM10 Concentration          3213.0  2.374790e+01     17.987246   \n",
              "Daily Max 8-hour Ozone Concentration   5691.0  4.418854e-02      0.014826   \n",
              "\n",
              "                                               min           25%  \\\n",
              "Site ID                               4.903520e+08  4.903530e+08   \n",
              "POC                                   1.000000e+00  1.000000e+00   \n",
              "Daily Mean PM2.5 Concentration       -1.500000e+00  4.100000e+00   \n",
              "DAILY_AQI_VALUE                       0.000000e+00  1.800000e+01   \n",
              "DAILY_OBS_COUNT                       1.000000e+00  1.000000e+00   \n",
              "PERCENT_COMPLETE                      2.900000e+01  1.000000e+02   \n",
              "AQS_PARAMETER_CODE                    4.420100e+04  4.420100e+04   \n",
              "CBSA_CODE                             4.162000e+04  4.162000e+04   \n",
              "STATE_CODE                            4.900000e+01  4.900000e+01   \n",
              "COUNTY_CODE                           3.500000e+01  3.500000e+01   \n",
              "SITE_LATITUDE                         4.049639e+01  4.059806e+01   \n",
              "SITE_LONGITUDE                       -1.120877e+02 -1.120088e+02   \n",
              "Daily Mean PM10 Concentration         0.000000e+00  1.200000e+01   \n",
              "Daily Max 8-hour Ozone Concentration  2.000000e-03  3.400000e-02   \n",
              "\n",
              "                                               50%           75%           max  \n",
              "Site ID                               4.903530e+08  4.903530e+08  4.903540e+08  \n",
              "POC                                   1.000000e+00  3.000000e+00  5.000000e+00  \n",
              "Daily Mean PM2.5 Concentration        6.400000e+00  1.000000e+01  6.350000e+01  \n",
              "DAILY_AQI_VALUE                       3.000000e+01  4.400000e+01  1.770000e+02  \n",
              "DAILY_OBS_COUNT                       1.000000e+00  1.700000e+01  2.400000e+01  \n",
              "PERCENT_COMPLETE                      1.000000e+02  1.000000e+02  1.000000e+02  \n",
              "AQS_PARAMETER_CODE                    8.810100e+04  8.810100e+04  8.850200e+04  \n",
              "CBSA_CODE                             4.162000e+04  4.162000e+04  4.162000e+04  \n",
              "STATE_CODE                            4.900000e+01  4.900000e+01  4.900000e+01  \n",
              "COUNTY_CODE                           3.500000e+01  3.500000e+01  3.500000e+01  \n",
              "SITE_LATITUDE                         4.073639e+01  4.077714e+01  4.080790e+01  \n",
              "SITE_LONGITUDE                       -1.119310e+02 -1.118942e+02 -1.118722e+02  \n",
              "Daily Mean PM10 Concentration         2.000000e+01  3.100000e+01  1.750000e+02  \n",
              "Daily Max 8-hour Ozone Concentration  4.300000e-02  5.500000e-02  9.600000e-02  "
            ],
            "text/html": [
              "\n",
              "  <div id=\"df-8138dadd-2287-486d-9d39-2c512364bdef\">\n",
              "    <div class=\"colab-df-container\">\n",
              "      <div>\n",
              "<style scoped>\n",
              "    .dataframe tbody tr th:only-of-type {\n",
              "        vertical-align: middle;\n",
              "    }\n",
              "\n",
              "    .dataframe tbody tr th {\n",
              "        vertical-align: top;\n",
              "    }\n",
              "\n",
              "    .dataframe thead th {\n",
              "        text-align: right;\n",
              "    }\n",
              "</style>\n",
              "<table border=\"1\" class=\"dataframe\">\n",
              "  <thead>\n",
              "    <tr style=\"text-align: right;\">\n",
              "      <th></th>\n",
              "      <th>count</th>\n",
              "      <th>mean</th>\n",
              "      <th>std</th>\n",
              "      <th>min</th>\n",
              "      <th>25%</th>\n",
              "      <th>50%</th>\n",
              "      <th>75%</th>\n",
              "      <th>max</th>\n",
              "    </tr>\n",
              "  </thead>\n",
              "  <tbody>\n",
              "    <tr>\n",
              "      <th>Site ID</th>\n",
              "      <td>19620.0</td>\n",
              "      <td>4.903530e+08</td>\n",
              "      <td>445.818588</td>\n",
              "      <td>4.903520e+08</td>\n",
              "      <td>4.903530e+08</td>\n",
              "      <td>4.903530e+08</td>\n",
              "      <td>4.903530e+08</td>\n",
              "      <td>4.903540e+08</td>\n",
              "    </tr>\n",
              "    <tr>\n",
              "      <th>POC</th>\n",
              "      <td>19620.0</td>\n",
              "      <td>1.791794e+00</td>\n",
              "      <td>1.180194</td>\n",
              "      <td>1.000000e+00</td>\n",
              "      <td>1.000000e+00</td>\n",
              "      <td>1.000000e+00</td>\n",
              "      <td>3.000000e+00</td>\n",
              "      <td>5.000000e+00</td>\n",
              "    </tr>\n",
              "    <tr>\n",
              "      <th>Daily Mean PM2.5 Concentration</th>\n",
              "      <td>10716.0</td>\n",
              "      <td>8.606794e+00</td>\n",
              "      <td>7.603222</td>\n",
              "      <td>-1.500000e+00</td>\n",
              "      <td>4.100000e+00</td>\n",
              "      <td>6.400000e+00</td>\n",
              "      <td>1.000000e+01</td>\n",
              "      <td>6.350000e+01</td>\n",
              "    </tr>\n",
              "    <tr>\n",
              "      <th>DAILY_AQI_VALUE</th>\n",
              "      <td>19620.0</td>\n",
              "      <td>3.463456e+01</td>\n",
              "      <td>23.376788</td>\n",
              "      <td>0.000000e+00</td>\n",
              "      <td>1.800000e+01</td>\n",
              "      <td>3.000000e+01</td>\n",
              "      <td>4.400000e+01</td>\n",
              "      <td>1.770000e+02</td>\n",
              "    </tr>\n",
              "    <tr>\n",
              "      <th>DAILY_OBS_COUNT</th>\n",
              "      <td>19620.0</td>\n",
              "      <td>5.699439e+00</td>\n",
              "      <td>7.384894</td>\n",
              "      <td>1.000000e+00</td>\n",
              "      <td>1.000000e+00</td>\n",
              "      <td>1.000000e+00</td>\n",
              "      <td>1.700000e+01</td>\n",
              "      <td>2.400000e+01</td>\n",
              "    </tr>\n",
              "    <tr>\n",
              "      <th>PERCENT_COMPLETE</th>\n",
              "      <td>19620.0</td>\n",
              "      <td>9.993400e+01</td>\n",
              "      <td>1.210702</td>\n",
              "      <td>2.900000e+01</td>\n",
              "      <td>1.000000e+02</td>\n",
              "      <td>1.000000e+02</td>\n",
              "      <td>1.000000e+02</td>\n",
              "      <td>1.000000e+02</td>\n",
              "    </tr>\n",
              "    <tr>\n",
              "      <th>AQS_PARAMETER_CODE</th>\n",
              "      <td>19620.0</td>\n",
              "      <td>7.422491e+04</td>\n",
              "      <td>19352.144314</td>\n",
              "      <td>4.420100e+04</td>\n",
              "      <td>4.420100e+04</td>\n",
              "      <td>8.810100e+04</td>\n",
              "      <td>8.810100e+04</td>\n",
              "      <td>8.850200e+04</td>\n",
              "    </tr>\n",
              "    <tr>\n",
              "      <th>CBSA_CODE</th>\n",
              "      <td>19620.0</td>\n",
              "      <td>4.162000e+04</td>\n",
              "      <td>0.000000</td>\n",
              "      <td>4.162000e+04</td>\n",
              "      <td>4.162000e+04</td>\n",
              "      <td>4.162000e+04</td>\n",
              "      <td>4.162000e+04</td>\n",
              "      <td>4.162000e+04</td>\n",
              "    </tr>\n",
              "    <tr>\n",
              "      <th>STATE_CODE</th>\n",
              "      <td>19620.0</td>\n",
              "      <td>4.900000e+01</td>\n",
              "      <td>0.000000</td>\n",
              "      <td>4.900000e+01</td>\n",
              "      <td>4.900000e+01</td>\n",
              "      <td>4.900000e+01</td>\n",
              "      <td>4.900000e+01</td>\n",
              "      <td>4.900000e+01</td>\n",
              "    </tr>\n",
              "    <tr>\n",
              "      <th>COUNTY_CODE</th>\n",
              "      <td>19620.0</td>\n",
              "      <td>3.500000e+01</td>\n",
              "      <td>0.000000</td>\n",
              "      <td>3.500000e+01</td>\n",
              "      <td>3.500000e+01</td>\n",
              "      <td>3.500000e+01</td>\n",
              "      <td>3.500000e+01</td>\n",
              "      <td>3.500000e+01</td>\n",
              "    </tr>\n",
              "    <tr>\n",
              "      <th>SITE_LATITUDE</th>\n",
              "      <td>19620.0</td>\n",
              "      <td>4.069267e+01</td>\n",
              "      <td>0.104574</td>\n",
              "      <td>4.049639e+01</td>\n",
              "      <td>4.059806e+01</td>\n",
              "      <td>4.073639e+01</td>\n",
              "      <td>4.077714e+01</td>\n",
              "      <td>4.080790e+01</td>\n",
              "    </tr>\n",
              "    <tr>\n",
              "      <th>SITE_LONGITUDE</th>\n",
              "      <td>19620.0</td>\n",
              "      <td>-1.119475e+02</td>\n",
              "      <td>0.066948</td>\n",
              "      <td>-1.120877e+02</td>\n",
              "      <td>-1.120088e+02</td>\n",
              "      <td>-1.119310e+02</td>\n",
              "      <td>-1.118942e+02</td>\n",
              "      <td>-1.118722e+02</td>\n",
              "    </tr>\n",
              "    <tr>\n",
              "      <th>Daily Mean PM10 Concentration</th>\n",
              "      <td>3213.0</td>\n",
              "      <td>2.374790e+01</td>\n",
              "      <td>17.987246</td>\n",
              "      <td>0.000000e+00</td>\n",
              "      <td>1.200000e+01</td>\n",
              "      <td>2.000000e+01</td>\n",
              "      <td>3.100000e+01</td>\n",
              "      <td>1.750000e+02</td>\n",
              "    </tr>\n",
              "    <tr>\n",
              "      <th>Daily Max 8-hour Ozone Concentration</th>\n",
              "      <td>5691.0</td>\n",
              "      <td>4.418854e-02</td>\n",
              "      <td>0.014826</td>\n",
              "      <td>2.000000e-03</td>\n",
              "      <td>3.400000e-02</td>\n",
              "      <td>4.300000e-02</td>\n",
              "      <td>5.500000e-02</td>\n",
              "      <td>9.600000e-02</td>\n",
              "    </tr>\n",
              "  </tbody>\n",
              "</table>\n",
              "</div>\n",
              "      <button class=\"colab-df-convert\" onclick=\"convertToInteractive('df-8138dadd-2287-486d-9d39-2c512364bdef')\"\n",
              "              title=\"Convert this dataframe to an interactive table.\"\n",
              "              style=\"display:none;\">\n",
              "        \n",
              "  <svg xmlns=\"http://www.w3.org/2000/svg\" height=\"24px\"viewBox=\"0 0 24 24\"\n",
              "       width=\"24px\">\n",
              "    <path d=\"M0 0h24v24H0V0z\" fill=\"none\"/>\n",
              "    <path d=\"M18.56 5.44l.94 2.06.94-2.06 2.06-.94-2.06-.94-.94-2.06-.94 2.06-2.06.94zm-11 1L8.5 8.5l.94-2.06 2.06-.94-2.06-.94L8.5 2.5l-.94 2.06-2.06.94zm10 10l.94 2.06.94-2.06 2.06-.94-2.06-.94-.94-2.06-.94 2.06-2.06.94z\"/><path d=\"M17.41 7.96l-1.37-1.37c-.4-.4-.92-.59-1.43-.59-.52 0-1.04.2-1.43.59L10.3 9.45l-7.72 7.72c-.78.78-.78 2.05 0 2.83L4 21.41c.39.39.9.59 1.41.59.51 0 1.02-.2 1.41-.59l7.78-7.78 2.81-2.81c.8-.78.8-2.07 0-2.86zM5.41 20L4 18.59l7.72-7.72 1.47 1.35L5.41 20z\"/>\n",
              "  </svg>\n",
              "      </button>\n",
              "      \n",
              "  <style>\n",
              "    .colab-df-container {\n",
              "      display:flex;\n",
              "      flex-wrap:wrap;\n",
              "      gap: 12px;\n",
              "    }\n",
              "\n",
              "    .colab-df-convert {\n",
              "      background-color: #E8F0FE;\n",
              "      border: none;\n",
              "      border-radius: 50%;\n",
              "      cursor: pointer;\n",
              "      display: none;\n",
              "      fill: #1967D2;\n",
              "      height: 32px;\n",
              "      padding: 0 0 0 0;\n",
              "      width: 32px;\n",
              "    }\n",
              "\n",
              "    .colab-df-convert:hover {\n",
              "      background-color: #E2EBFA;\n",
              "      box-shadow: 0px 1px 2px rgba(60, 64, 67, 0.3), 0px 1px 3px 1px rgba(60, 64, 67, 0.15);\n",
              "      fill: #174EA6;\n",
              "    }\n",
              "\n",
              "    [theme=dark] .colab-df-convert {\n",
              "      background-color: #3B4455;\n",
              "      fill: #D2E3FC;\n",
              "    }\n",
              "\n",
              "    [theme=dark] .colab-df-convert:hover {\n",
              "      background-color: #434B5C;\n",
              "      box-shadow: 0px 1px 3px 1px rgba(0, 0, 0, 0.15);\n",
              "      filter: drop-shadow(0px 1px 2px rgba(0, 0, 0, 0.3));\n",
              "      fill: #FFFFFF;\n",
              "    }\n",
              "  </style>\n",
              "\n",
              "      <script>\n",
              "        const buttonEl =\n",
              "          document.querySelector('#df-8138dadd-2287-486d-9d39-2c512364bdef button.colab-df-convert');\n",
              "        buttonEl.style.display =\n",
              "          google.colab.kernel.accessAllowed ? 'block' : 'none';\n",
              "\n",
              "        async function convertToInteractive(key) {\n",
              "          const element = document.querySelector('#df-8138dadd-2287-486d-9d39-2c512364bdef');\n",
              "          const dataTable =\n",
              "            await google.colab.kernel.invokeFunction('convertToInteractive',\n",
              "                                                     [key], {});\n",
              "          if (!dataTable) return;\n",
              "\n",
              "          const docLinkHtml = 'Like what you see? Visit the ' +\n",
              "            '<a target=\"_blank\" href=https://colab.research.google.com/notebooks/data_table.ipynb>data table notebook</a>'\n",
              "            + ' to learn more about interactive tables.';\n",
              "          element.innerHTML = '';\n",
              "          dataTable['output_type'] = 'display_data';\n",
              "          await google.colab.output.renderOutput(dataTable, element);\n",
              "          const docLink = document.createElement('div');\n",
              "          docLink.innerHTML = docLinkHtml;\n",
              "          element.appendChild(docLink);\n",
              "        }\n",
              "      </script>\n",
              "    </div>\n",
              "  </div>\n",
              "  "
            ]
          },
          "metadata": {},
          "execution_count": 105
        }
      ]
    },
    {
      "cell_type": "code",
      "source": [],
      "metadata": {
        "id": "D5cB9aEgiGKw"
      },
      "execution_count": null,
      "outputs": []
    }
  ]
}